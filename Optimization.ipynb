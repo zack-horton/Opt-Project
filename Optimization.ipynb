{
 "cells": [
  {
   "cell_type": "code",
   "execution_count": 1,
   "id": "5660adff-82c2-4bc8-b04f-87ba83c13b92",
   "metadata": {},
   "outputs": [],
   "source": [
    "using Pkg, Gurobi, JuMP, CSV, DataFrames, LinearAlgebra, Statistics, Plots"
   ]
  },
  {
   "cell_type": "markdown",
   "id": "2ac42306-9a76-4d2d-bef8-a51b43a77778",
   "metadata": {},
   "source": [
    "## Formulation:\n",
    "\n",
    "![alt text](Network_Diagram.jpg \"Network Diagram\")\n"
   ]
  },
  {
   "cell_type": "code",
   "execution_count": 2,
   "id": "5c50312c-1146-4cfc-806d-21146d081824",
   "metadata": {},
   "outputs": [
    {
     "data": {
      "text/plain": [
       "5×4 Matrix{Float64}:\n",
       " 128.98  0.00012898   449.0  0.45\n",
       "  40.0   4.0e-5       492.0  0.49\n",
       "  58.44  5.844e-5       0.0  0.0\n",
       "  18.0   1.8e-5         0.0  0.0\n",
       "  92.52  9.252e-5    1840.0  1.84"
      ]
     },
     "execution_count": 2,
     "metadata": {},
     "output_type": "execute_result"
    }
   ],
   "source": [
    "chemicals = CSV.read(\"chemicals.csv\", DataFrame)\n",
    "p = size(chemicals)[2]\n",
    "# print(chemicals)\n",
    "p_matrix = Matrix(hcat(Vector(chemicals[2, 2:p]), Vector(chemicals[3, 2:p]), Vector(chemicals[5, 2:p]), Vector(chemicals[4, 2:p]), Vector(chemicals[1, 2:p]))')"
   ]
  },
  {
   "cell_type": "code",
   "execution_count": 3,
   "id": "563fc0fd-ae57-4beb-a08a-3a56857211b2",
   "metadata": {},
   "outputs": [
    {
     "data": {
      "text/plain": [
       "6×3 Matrix{Float64}:\n",
       " 1840.0  5000.0  0.15\n",
       " 2000.0  3000.0  0.12\n",
       " 4000.0  1000.0  0.05\n",
       " 1500.0  8000.0  0.14\n",
       " 1700.0  8000.0  0.17\n",
       " 3000.0  5000.0  0.08"
      ]
     },
     "execution_count": 3,
     "metadata": {},
     "output_type": "execute_result"
    }
   ],
   "source": [
    "customers = CSV.read(\"customers.csv\", DataFrame)\n",
    "k_matrix = Matrix(customers)\n",
    "# k_matrix[:, 1] = 1000*k_matrix[:, 1]\n",
    "# k_matrix"
   ]
  },
  {
   "cell_type": "code",
   "execution_count": 4,
   "id": "5c8d64b9-9e71-4f21-a6ec-e3673f3c9d13",
   "metadata": {},
   "outputs": [
    {
     "data": {
      "text/plain": [
       "5×4 Matrix{Float64}:\n",
       " 500000.0    100.0  10000.0  0.9\n",
       " 800000.0    175.0  10000.0  0.95\n",
       "      1.0e6  200.0  10000.0  0.99\n",
       " 300000.0     80.0  10000.0  0.8\n",
       " 400000.0     85.0  10000.0  0.88"
      ]
     },
     "execution_count": 4,
     "metadata": {},
     "output_type": "execute_result"
    }
   ],
   "source": [
    "reactors = CSV.read(\"reactors.csv\", DataFrame)\n",
    "r_matrix = Matrix(reactors)"
   ]
  },
  {
   "cell_type": "code",
   "execution_count": 5,
   "id": "adf3ad8e-da9e-465f-8ad6-23baebed8864",
   "metadata": {},
   "outputs": [
    {
     "data": {
      "text/plain": [
       "5×3 Matrix{Int64}:\n",
       " 100000   50  10000\n",
       " 200000  100  20000\n",
       " 250000  120  21000\n",
       "  50000   35   7000\n",
       "  75000   45   8000"
      ]
     },
     "execution_count": 5,
     "metadata": {},
     "output_type": "execute_result"
    }
   ],
   "source": [
    "separators_1 = CSV.read(\"separators1.csv\", DataFrame)\n",
    "m_matrix = Matrix(separators_1)"
   ]
  },
  {
   "cell_type": "code",
   "execution_count": 6,
   "id": "ca8bb1c2-49ce-46e4-96e1-c493e7523741",
   "metadata": {},
   "outputs": [
    {
     "data": {
      "text/plain": [
       "5×4 Matrix{Float64}:\n",
       " 100000.0  50.0  10000.0  0.9\n",
       " 200000.0  50.0  10000.0  0.95\n",
       " 250000.0  50.0  10000.0  0.99\n",
       "  50000.0  50.0  10000.0  0.85\n",
       "  75000.0  50.0  10000.0  0.88"
      ]
     },
     "execution_count": 6,
     "metadata": {},
     "output_type": "execute_result"
    }
   ],
   "source": [
    "separators_2 = CSV.read(\"separators2.csv\", DataFrame)\n",
    "s_matrix = Matrix(separators_2)"
   ]
  },
  {
   "cell_type": "code",
   "execution_count": 7,
   "id": "7b157ccf-bd8d-4cf6-916a-8923c5900b3a",
   "metadata": {},
   "outputs": [
    {
     "data": {
      "text/plain": [
       "5×3 Matrix{Float64}:\n",
       "  450.0  10000.0  0.05\n",
       "  500.0  10000.0  0.04\n",
       " 1000.0   5000.0  0.005\n",
       "  250.0  10000.0  0.2\n",
       "  750.0   5000.0  0.02"
      ]
     },
     "execution_count": 7,
     "metadata": {},
     "output_type": "execute_result"
    }
   ],
   "source": [
    "suppliers_DCH = CSV.read(\"suppliers_DCH.csv\", DataFrame)\n",
    "n_p1_matrix = Matrix(suppliers_DCH)"
   ]
  },
  {
   "cell_type": "code",
   "execution_count": 8,
   "id": "fed04664-ecc3-4836-9c5b-521585bb2f2a",
   "metadata": {},
   "outputs": [
    {
     "data": {
      "text/plain": [
       "5×3 Matrix{Float64}:\n",
       "  500.0  2500.0  0.05\n",
       "  600.0  2000.0  0.04\n",
       "  400.0  3000.0  0.07\n",
       " 1000.0  2000.0  0.005\n",
       "  800.0  2500.0  0.01"
      ]
     },
     "execution_count": 8,
     "metadata": {},
     "output_type": "execute_result"
    }
   ],
   "source": [
    "suppliers_NAOH = CSV.read(\"suppliers_NAOH.csv\", DataFrame)\n",
    "n_p2_matrix = Matrix(suppliers_NAOH)"
   ]
  },
  {
   "cell_type": "code",
   "execution_count": 9,
   "id": "86812021-23c2-405a-8f34-6f9b9a912e59",
   "metadata": {},
   "outputs": [
    {
     "data": {
      "text/plain": [
       "10×3 Matrix{Float64}:\n",
       "  450.0  10000.0  0.05\n",
       "  500.0  10000.0  0.04\n",
       " 1000.0   5000.0  0.005\n",
       "  250.0  10000.0  0.2\n",
       "  750.0   5000.0  0.02\n",
       "  500.0   2500.0  0.05\n",
       "  600.0   2000.0  0.04\n",
       "  400.0   3000.0  0.07\n",
       " 1000.0   2000.0  0.005\n",
       "  800.0   2500.0  0.01"
      ]
     },
     "execution_count": 9,
     "metadata": {},
     "output_type": "execute_result"
    }
   ],
   "source": [
    "n_matrix = vcat(Matrix(suppliers_DCH), Matrix(suppliers_NAOH))"
   ]
  },
  {
   "cell_type": "code",
   "execution_count": 10,
   "id": "3a8e7a9e-a909-4cf3-b523-a89d7e153787",
   "metadata": {},
   "outputs": [
    {
     "data": {
      "text/plain": [
       "500"
      ]
     },
     "execution_count": 10,
     "metadata": {},
     "output_type": "execute_result"
    }
   ],
   "source": [
    "wastes = CSV.read(\"wastes.csv\", DataFrame)\n",
    "waste_matrix = Matrix(wastes)\n",
    "j = waste_matrix[1, 1]\n",
    "l_aqueous = waste_matrix[1, 2]\n",
    "l_organic = waste_matrix[1, 3]"
   ]
  },
  {
   "cell_type": "markdown",
   "id": "e8af02d7-c9bb-41ae-a4c6-73f32d5385b6",
   "metadata": {},
   "source": [
    "\\begin{align}\n",
    "    \\text{Sets of Values:}& \\\\\n",
    "    \\text{Supplier ($n$)}& \\in [1, N] \\\\\n",
    "    \\text{Material ($p$)}& \\in [1, P] \\\\\n",
    "    \\text{$p=1$ for DCH, $p=2$ for NaOH, $p=3$ for NaCl, $p=4$ for H2O, } & \\text{and $p=5$ ECH} \\\\\n",
    "    \\text{Separator (Left) ($m$)}& \\in [1, M] \\\\\n",
    "    \\text{Waste Water Treatment Plant (for initial separators) ($j$)}& \\in [J] \\\\\n",
    "    \\text{Reactors ($r$)}& \\in [1, R] \\\\\n",
    "    \\text{Separator (Right) ($s$)}& \\in [1, S] \\\\\n",
    "    \\text{Customers ($k$)}& \\in [1, K] \\\\\n",
    "    \\text{Waste Water Treatment Plant (for second separators) ($l$)}& \\in [L] \\\\ \\\\\n",
    "    \\text{Fixed Cost for using separator (left) ($m$)} & = f_{m} \\\\\n",
    "    \\text{Fixed Cost for using reactor ($r$)} & = f_{r} \\\\\n",
    "    \\text{Fixed Cost for using separator (right) ($s$)} & = f_{s} \\\\ \\\\\n",
    "    \\text{Unit Cost for sending material to separator (left) ($m$)} & = c_{m} \\\\\n",
    "    \\text{Unit Cost for sending material to waste water treatment plant ($j$)} & = c_{j} \\\\\n",
    "    \\text{Unit Cost for sending material to reaction ($r$)} & = c_{r} \\\\\n",
    "    \\text{Unit Cost for sending material to separator (right) ($s$)} & = c_{s} \\\\\n",
    "    \\text{Unit Cost for sending material to waste water treatment plant (aqueous) ($l$)} & = c^{A}_{l} \\\\\n",
    "    \\text{Unit Cost for sending material to waste water treatment plant (organic) ($l$)} & = c^{O}_{l} \\\\\n",
    "\\end{align}"
   ]
  },
  {
   "cell_type": "code",
   "execution_count": 11,
   "id": "243c9810-b4f0-4898-8ded-6f5c30c6b127",
   "metadata": {},
   "outputs": [
    {
     "data": {
      "text/plain": [
       "1.0e9"
      ]
     },
     "execution_count": 11,
     "metadata": {},
     "output_type": "execute_result"
    }
   ],
   "source": [
    "## Existing Data\n",
    "# Materials: (1) DHC, (2) NaOH, (3) NaCl, (4) H2O, (5) ECH (material index)\n",
    "\n",
    "# p_matrix: 5x4 matrix \n",
    "    # Rows: DHC, NaOH, NaCl, H2O, ECH (material index)\n",
    "    # Columns: [1] MW (g/mol), [2] MW (MT/mol), [3] Price (USD/MT), [4] Price (USD/kg)\n",
    "# n_p1_matrix: 5x3 matrix (DCH Suppliers)\n",
    "    # Rows: DCH Supplier index\n",
    "    # Columns: [1] Price ($/MT), [2] Supply, [3] Impurity %\n",
    "# n_p2_matrix: 5x3 matrix (NaOH Suppliers)\n",
    "    # Rows: NaOH Supplier index\n",
    "    # Columns: [1] Price ($/MT), [2] Supply, [3] Impurity %\n",
    "# m_matrix: 5x4 matrix [Left Separators]\n",
    "    # Rows: Separator (Left) index\n",
    "    # Columns: [1] Fixed Cost, [2] Flow Cost, [3] Capacity, [4] Impurity %\n",
    "# waste_matrix: 1x3 matrix (all waste water treatment plants)\n",
    "    # j: Int64 (Unit Cost of waste water treatment at left separators)\n",
    "    # l_aqueous: Int64 (Unit Cost of aqueous water water treatment disposal at right separators)\n",
    "    # l_organic: Int64 (Unit Cost of organic waste water treatment disposal at right separators)\n",
    "# r_matrix: 5x4 matrix\n",
    "    # Rows: Reactor index\n",
    "    # Columns: [1] Fixed Cost, [2] Flow Cost, [3] Capacity, [4] Conversion\n",
    "# s_matrix: 5x4 matrix [Right Separators]\n",
    "    # Rows: Separator (Right) index\n",
    "    # Columns: [1] Fixed Cost, [2] Flow Cost, [3] Capacity, [4] Recovery\n",
    "# k_matrix: 6x2 matrix\n",
    "    # Rows: Customer index\n",
    "    # Columns: [1] Price (USD/MT), [2] Demand, [3] Purity\n",
    "\n",
    "## Ranges & Value Vectors\n",
    "material_range = 1:5\n",
    "small_material_range = 1:2\n",
    "\n",
    "chemical_MW = p_matrix[:, 2]\n",
    "\n",
    "full_supplier_range = 1:(size(n_p1_matrix)[1] + size(n_p2_matrix)[1])\n",
    "p1_supplier_range = 1:size(n_p1_matrix)[1]\n",
    "p2_supplier_range = (size(n_p1_matrix)[1] + 1):(size(n_p1_matrix)[1] + size(n_p2_matrix)[1])\n",
    "supplier_unit_price = n_matrix[:, 1]\n",
    "supplier_supply = n_matrix[:, 2]\n",
    "supplier_impurity = n_matrix[:, 3]\n",
    "\n",
    "left_separator_range = 1:size(m_matrix)[1]\n",
    "left_separator_fixed_cost = m_matrix[:, 1]\n",
    "left_separator_unit_cost = m_matrix[:, 2]\n",
    "left_separator_capacity = m_matrix[:, 3]\n",
    "\n",
    "left_waste_range = 1:1\n",
    "left_waste_unit_cost = waste_matrix[:, 1]\n",
    "\n",
    "right_waste_range = 1:1\n",
    "right_waste_aqueous_unit_cost = waste_matrix[:, 2]\n",
    "right_waste_organic_unit_cost = waste_matrix[:, 3]\n",
    "\n",
    "reactor_range = 1:size(r_matrix)[1]\n",
    "reactor_fixed_cost = r_matrix[:, 1]\n",
    "reactor_unit_cost = r_matrix[:, 2]\n",
    "reactor_capacity = r_matrix[:, 3]\n",
    "reactor_conversion_pct = r_matrix[:, 4]\n",
    "\n",
    "right_separator_range = 1:size(s_matrix)[1]\n",
    "right_separator_fixed_cost = s_matrix[:, 1]\n",
    "right_separator_unit_cost = s_matrix[:, 2]\n",
    "right_separator_capacity = s_matrix[:, 3]\n",
    "right_separator_recovery_pct = s_matrix[:, 4]\n",
    "\n",
    "customer_range = 1:size(k_matrix)[1]\n",
    "customer_unit_revenue = k_matrix[:, 1]\n",
    "customer_demand = k_matrix[:, 2]\n",
    "customer_purity_pct = k_matrix[:, 3];\n",
    "\n",
    "big_M = 1e9"
   ]
  },
  {
   "cell_type": "markdown",
   "id": "facb2a79-ec14-436b-9fba-015a7a5a9ec9",
   "metadata": {},
   "source": [
    "\\begin{align}\n",
    "    \\text{Variables and Sign Restrictions:} \\\\\n",
    "    a_{nm}^{p} \\in \\mathbb{R}_{+} =&\\ \\text{amount of material $p$ purchased from supplier $n$ and sent to separator $m$} \\\\\n",
    "    I_{n} =&\\ \\text{\\% impurity in material $p$ purchased from supplier $n$} \\\\ \\\\\n",
    "    b_{mr}^{p} \\in \\mathbb{R}_{+} =&\\ \\text{amount of separated (pure) material $p$ to send from separator $m$ to reactor $r$} \\\\\n",
    "    \\Delta b_{mj}^{p} \\in \\mathbb{R}_{+} =&\\ \\text{amount of separated (impure) material $p$ to send from separator $m$ to waste plant $j$} \\\\ \\\\\n",
    "    d_{rs}^{p} \\in \\mathbb{R}_{+} =&\\ \\text{amount of reacted material $p$ (with impurities) to ship from reactor $r$ to separator $s$} \\\\\n",
    "    \\gamma_{r} =&\\ \\text{\\% yield during reaction from reactor $r$} \\\\ \\\\\n",
    "    e_{sk}^{p} \\in \\mathbb{R}_{+} =&\\ \\text{amount of separated material $p$ (pure) to ship from separator $s$ to customer $k$} \\\\\n",
    "    \\Delta e_{sl}^{A} \\in \\mathbb{R}_{+} =&\\ \\text{amount of separated (impure) aqueous material to ship from separator $s$ to waste plant $l$} \\\\\n",
    "    \\Delta e_{sl}^{O} \\in \\mathbb{R}_{+} =&\\ \\text{amount of separated (impure) organic material to ship from separator $s$ to waste plant $l$} \\\\ \n",
    "    I_{s} =&\\ \\text{\\% recovery of materials from separator $s$} \\\\ \\\\\n",
    "    g_{k} \\in \\mathbb{R}_{+} =&\\ \\text{units of demand from customer k} \\\\ \n",
    "    \\nu_{k} =&\\ \\text{maximum \\% of non-ECH product that customer $k$ willing to except, relative to amount of ECH shipped}\\\\ \\\\\n",
    "    \\rho_{m} \\in \\{0, 1\\} =&\\ \\text{binary indicator if separator (left) $m$ used} \\\\\n",
    "    \\sigma_{r} \\in \\{0, 1\\} =&\\ \\text{binary indicator if reactor $r$ used} \\\\\n",
    "    \\mu_{s} \\in \\{0, 1\\} =&\\ \\text{binary indicator if separator (right) $s$ used} \\\\\n",
    "\\end{align}"
   ]
  },
  {
   "cell_type": "code",
   "execution_count": 49,
   "id": "749a2012-20f0-4e46-8935-f4c2c97ac935",
   "metadata": {},
   "outputs": [
    {
     "name": "stdout",
     "output_type": "stream",
     "text": [
      "Set parameter Username\n",
      "Academic license - for non-commercial use only - expires 2024-08-18\n"
     ]
    }
   ],
   "source": [
    "model = Model(Gurobi.Optimizer)\n",
    "\n",
    "## CREATE VARIABLES\n",
    "@variable(model,\n",
    "    a[n in full_supplier_range, m in left_separator_range, p in small_material_range] >= 0)\n",
    "\n",
    "@variable(model,\n",
    "    b[m in left_separator_range, r in reactor_range, p in small_material_range] >= 0)\n",
    "@variable(model,\n",
    "    delta_b[m in left_separator_range, j in left_waste_range, p in small_material_range] >= 0)\n",
    "\n",
    "@variable(model,\n",
    "    d[r in reactor_range, s in right_separator_range, p in material_range] >= 0)\n",
    "\n",
    "@variable(model,\n",
    "    e[s in right_separator_range, k in customer_range, p in material_range] >= 0)\n",
    "@variable(model,\n",
    "    delta_e[s in right_separator_range, l in right_waste_range, p in material_range] >= 0)\n",
    "\n",
    "@variable(model,\n",
    "    rho[m in left_separator_range], Bin)\n",
    "@variable(model,\n",
    "    sigma[r in reactor_range], Bin)\n",
    "@variable(model,\n",
    "    mu[s in right_separator_range], Bin)\n",
    "\n",
    "@variable(model,\n",
    "    FC_m >= 0)\n",
    "@variable(model,\n",
    "    FC_r >= 0)\n",
    "@variable(model,\n",
    "    FC_s >= 0)\n",
    "\n",
    "@variable(model,\n",
    "    UC_n >= 0)\n",
    "@variable(model,\n",
    "    UC_m >= 0)\n",
    "@variable(model,\n",
    "    UC_r >= 0)\n",
    "@variable(model,\n",
    "    UC_s >= 0)\n",
    "@variable(model,\n",
    "    UC_j >= 0)\n",
    "@variable(model,\n",
    "    UC_l >= 0)\n",
    "\n",
    "@variable(model,\n",
    "    R_k >= 0)\n",
    "\n",
    "## ONLY CERTAIN SUPPLIERS CAN PROVIDE CERTAIN PRODUCTS\n",
    "@constraint(model,\n",
    "    DCH_to_L_separator_flow[n in p1_supplier_range, m in left_separator_range],\n",
    "    a[n, m, 2] == 0)  #a[1:5, 1:M, 2]\n",
    "@constraint(model,\n",
    "    NaOH_to_L_separator_flow[n in p2_supplier_range, m in left_separator_range],\n",
    "    a[n, m, 1] == 0)  #a[6:10, 1:M, 1] \n",
    "# @constraint(model,\n",
    "#     Other_to_L_separator_flow[n in full_supplier_range, m in left_separator_range, p in [3, 4, 5]],\n",
    "#     a[n, m, p] == 0)  #a[1:10, 1:M, 3:5]\n",
    "\n",
    "## ONLY CERTAIN PRODUCTS CAN BE SEPARATED\n",
    "# @constraint(model,\n",
    "#     L_separator_to_reactor_flow[m in left_separator_range, r in reactor_range, p in [3, 4, 5]],\n",
    "#     b[m, r, p] == 0)\n",
    "# @constraint(model,\n",
    "#     L_separator_to_waste_flow[m in left_separator_range, r in reactor_range, p in [3, 4, 5]],\n",
    "#     b[m, r, p] == 0);\n",
    "\n",
    "## WHAT GOES INTO L SEPARATORS MUST COME OUT\n",
    "@constraint(model,\n",
    "    in_and_out_L_separator_flow[m in left_separator_range, p in small_material_range],\n",
    "    sum( (a[n, m, p]) for n in full_supplier_range) == \n",
    "    sum( (delta_b[m, j, p]) for j in left_waste_range) + \n",
    "    sum( (b[m, r, p]) for r in reactor_range));\n",
    "\n",
    "## WHAT GOES INTO REACTORS MUST COME OUT\n",
    "# @constraint(model,\n",
    "#     in_and_out_reactor_flow[r in reactor_range],\n",
    "#     sum( sum( (b[m, r, p]) for p in small_material_range) for m in left_separator_range) >= \n",
    "#     sum( sum( (d[r, s, p]) for p in material_range) for s in right_separator_range));\n",
    "\n",
    "## WHAT GOES INTO R SEPARATORS MUST COME OUT\n",
    "@constraint(model,\n",
    "    in_and_out_R_separator_flow[s in right_separator_range, p in material_range],\n",
    "    sum( (d[r, s, p]) for r in reactor_range) == \n",
    "    sum( (delta_e[s, l, p]) for l in right_waste_range) + \n",
    "    sum( (e[s, k, p]) for k in customer_range));\n",
    "\n",
    "## ENFORCE FIXED-COST OF L SEPARATORS\n",
    "@constraint(model,\n",
    "    Fixed_Cost_L_Separators_1[n in full_supplier_range, m in left_separator_range, p in small_material_range],\n",
    "    a[n, m, p] <= big_M * rho[m])\n",
    "@constraint(model,\n",
    "    Fixed_Cost_L_Separators_2[m in left_separator_range, r in reactor_range, p in small_material_range],\n",
    "    b[m, r, p] <= big_M * rho[m])\n",
    "@constraint(model,\n",
    "    Fixed_Cost_L_Separators_3[m in left_separator_range, j in left_waste_range, p in small_material_range],\n",
    "    delta_b[m, j, p] <= big_M * rho[m]);\n",
    "@constraint(model,\n",
    "    FC_m == sum( (left_separator_fixed_cost[m] * rho[m]) for m in left_separator_range));\n",
    "\n",
    "## ENFORCE FIXED-COST OF REACTORS\n",
    "@constraint(model,\n",
    "    Fixed_Cost_Reactors_1[m in left_separator_range, r in reactor_range, p in small_material_range],\n",
    "    b[m, r, p] <= big_M * sigma[r])\n",
    "@constraint(model,\n",
    "    Fixed_Cost_Reactors_2[r in reactor_range, s in right_separator_range, p in material_range],\n",
    "    d[r, s, p] <= big_M * sigma[r])\n",
    "@constraint(model,\n",
    "    FC_r == sum( (reactor_fixed_cost[r] * sigma[r]) for r in reactor_range));\n",
    "\n",
    "## ENFORCE FIXED-COST OF R SEPARATORS\n",
    "@constraint(model,\n",
    "    Fixed_Cost_R_Separators_1[r in reactor_range, s in right_separator_range, p in material_range],\n",
    "    d[r, s, p] <= big_M * mu[s])\n",
    "@constraint(model,\n",
    "    Fixed_Cost_R_Separators_2[s in right_separator_range, k in customer_range, p in material_range],\n",
    "    e[s, k, p] <= big_M * mu[s])\n",
    "@constraint(model,\n",
    "    Fixed_Cost_R_Separators_3[s in right_separator_range, l in right_waste_range, p in material_range],\n",
    "    delta_e[s, l, p] <= big_M * mu[s]);\n",
    "@constraint(model,\n",
    "    FC_s == sum( (right_separator_fixed_cost[s] * mu[s]) for s in right_separator_range))\n",
    "\n",
    "## CUSTOMER DEMAND REQUIREMENTS\n",
    "@constraint(model,\n",
    "    Customer_Demand[k in customer_range],\n",
    "    sum( (e[s, k, 5]) for s in right_separator_range) <=\n",
    "    customer_demand[k]);\n",
    "@constraint(model,\n",
    "    Customer_Product_Purity[k in customer_range],\n",
    "    sum( (e[s, k, 1] + e[s, k, 2] + e[s, k, 3] + e[s, k, 4]) for s in right_separator_range)\n",
    "    <= customer_purity_pct[k] * sum( (e[s, k, 5]) for s in right_separator_range))\n",
    "\n",
    "\n",
    "## CALCULATE UNIT COSTS\n",
    "@constraint(model,\n",
    "    UC_n == sum( \n",
    "                sum( \n",
    "                    sum( \n",
    "                        (supplier_unit_price[n] * a[n, m, p]) \n",
    "                    for p in small_material_range) \n",
    "                for m in left_separator_range) \n",
    "            for n in full_supplier_range))\n",
    "@constraint(model,\n",
    "    UC_m == sum( \n",
    "                sum( \n",
    "                    sum( \n",
    "                        (left_separator_unit_cost[m] * a[n, m, p]) \n",
    "                    for p in small_material_range) \n",
    "                for m in left_separator_range) \n",
    "            for n in full_supplier_range))\n",
    "@constraint(model,\n",
    "    UC_j == sum( \n",
    "                sum( \n",
    "                    sum( \n",
    "                        (left_waste_unit_cost[j] * delta_b[m, j, p]) \n",
    "                    for p in small_material_range) \n",
    "                for j in left_waste_range) \n",
    "            for m in left_separator_range))\n",
    "@constraint(model,\n",
    "    UC_r == sum( \n",
    "                sum( \n",
    "                    sum( \n",
    "                        (reactor_unit_cost[r] * b[m, r, p]) \n",
    "                    for p in small_material_range) \n",
    "                for r in reactor_range) \n",
    "            for m in left_separator_range))\n",
    "@constraint(model,\n",
    "    UC_s == sum( \n",
    "                sum( \n",
    "                    sum( \n",
    "                        (right_separator_unit_cost[s] * d[r, s, p]) \n",
    "                    for p in material_range) \n",
    "                for s in right_separator_range) \n",
    "            for r in reactor_range));\n",
    "@constraint(model,\n",
    "    UC_l == sum( \n",
    "                sum( \n",
    "                    sum( \n",
    "                        (right_waste_aqueous_unit_cost[l] * delta_e[s, l, p]) \n",
    "                    for p in 2:4) \n",
    "                for l in right_waste_range) \n",
    "            for s in right_separator_range) + \n",
    "            sum( \n",
    "                sum( \n",
    "                    (right_waste_organic_unit_cost[l] * delta_e[s, l, 1]) \n",
    "                for l in right_waste_range) \n",
    "            for s in right_separator_range))\n",
    "\n",
    "## SUPPLIERS HAVE LIMITED CAPACITY\n",
    "@constraint(model,\n",
    "    Limit_DCH_supplier_volume[n in p1_supplier_range],\n",
    "    sum( (a[n, m, 1]) for m in left_separator_range) \n",
    "    <= supplier_supply[n])\n",
    "@constraint(model,\n",
    "    Limit_NaOH_supplier_volume[n in p2_supplier_range],\n",
    "    sum( (a[n, m, 2]) for m in left_separator_range) \n",
    "    <= supplier_supply[n])\n",
    "\n",
    "## L SEPARATORS HAVE LIMITED CAPACITY\n",
    "@constraint(model,\n",
    "    L_separator_capacity_in[m in left_separator_range],\n",
    "    sum( sum( (a[n, m, p]) for p in small_material_range) for n in full_supplier_range) \n",
    "    <= left_separator_capacity[m])\n",
    "@constraint(model,\n",
    "    L_separator_capacity_out[m in left_separator_range],\n",
    "    sum( sum( (b[m, r, p]) for p in small_material_range) for r in reactor_range) + \n",
    "    sum( sum( (delta_b[m, j, p]) for p in small_material_range) for j in left_waste_range) \n",
    "    <= left_separator_capacity[m])\n",
    "\n",
    "## REACTORS HAVE LIMITED CAPACITY\n",
    "@constraint(model,\n",
    "    reactor_capacity_in[r in reactor_range],\n",
    "    sum( sum( (b[m, r, p]) for p in small_material_range) for m in left_separator_range)\n",
    "    <= reactor_capacity[r])\n",
    "\n",
    "## R SEPARATORS HAVE LIMITED CAPACITY\n",
    "@constraint(model,\n",
    "    R_separator_capacity_in[s in right_separator_range],\n",
    "    sum( sum( (d[r, s, p]) for p in material_range) for r in reactor_range) \n",
    "    <= right_separator_capacity[s])\n",
    "@constraint(model,\n",
    "    R_separator_capacity_out[s in right_separator_range],\n",
    "    sum( sum( (e[s, k, p]) for p in material_range) for k in customer_range) + \n",
    "    sum( sum( (delta_e[s, l, p]) for p in material_range) for l in right_waste_range) \n",
    "    <= right_separator_capacity[s]);\n",
    "\n",
    "## CALCULATIONS (SUPPLIERS -> L SEPARATORS)\n",
    "@constraint(model,\n",
    "    DCH_supplier_impurity_calc_1[m in left_separator_range],\n",
    "    sum( ( (1 - supplier_impurity[n]) * (a[n, m, 1]) ) for n in p1_supplier_range) == \n",
    "    sum( (b[m, r, 1]) for r in reactor_range))\n",
    "@constraint(model,\n",
    "    NaOH_supplier_impurity_calc_1[m in left_separator_range],\n",
    "    sum( ( (1 - supplier_impurity[n]) * (a[n, m, 2]) ) for n in p2_supplier_range) == \n",
    "    sum( (b[m, r, 2]) for r in reactor_range))\n",
    "@constraint(model,\n",
    "    DCH_supplier_impurity_calc_2[m in left_separator_range],\n",
    "    sum( (supplier_impurity[n] * a[n, m, 1]) for n in p1_supplier_range) == \n",
    "    sum( (delta_b[m, j, 1]) for j in left_waste_range))\n",
    "@constraint(model,\n",
    "    NaOH_supplier_impurity_calc_2[m in left_separator_range],\n",
    "    sum( (supplier_impurity[n] * a[n, m, 2]) for n in p2_supplier_range) == \n",
    "    sum( (delta_b[m, j, 2]) for j in left_waste_range))\n",
    "\n",
    "## CALCULATIONS (L SEPARATORS -> REACTORS)\n",
    "@constraint(model,\n",
    "    DCH_reaction[r in reactor_range],\n",
    "    sum( (d[r, s, 1]) for s in right_separator_range) == \n",
    "    sum( \n",
    "        ( chemical_MW[1] * ( (b[m, r, 1]/chemical_MW[1]) - ((reactor_conversion_pct[r]) * (b[m, r, 1]/chemical_MW[1])) ) ) \n",
    "    for m in left_separator_range))\n",
    "@constraint(model,\n",
    "    NaOH_reaction[r in reactor_range],\n",
    "    sum( (d[r, s, 2]) for s in right_separator_range) == \n",
    "    sum( \n",
    "        ( chemical_MW[2] * ( (b[m, r, 2]/chemical_MW[2]) - ((reactor_conversion_pct[r]) * (b[m, r, 1]/chemical_MW[1])) ) ) \n",
    "    for m in left_separator_range))\n",
    "@constraint(model,\n",
    "    NaCl_reaction[r in reactor_range],\n",
    "    sum( (d[r, s, 3]) for s in right_separator_range) == \n",
    "    sum( \n",
    "        ( chemical_MW[3] * reactor_conversion_pct[r] * (b[m, r, 1]/chemical_MW[1]) ) \n",
    "    for m in left_separator_range))\n",
    "@constraint(model,\n",
    "    H2O_reaction[r in reactor_range],\n",
    "    sum( (d[r, s, 4]) for s in right_separator_range) == \n",
    "    sum( \n",
    "        ( chemical_MW[4] * reactor_conversion_pct[r] * (b[m, r, 1]/chemical_MW[1]) ) \n",
    "    for m in left_separator_range))\n",
    "@constraint(model,\n",
    "    ECH_reaction[r in reactor_range],\n",
    "    sum( (d[r, s, 5]) for s in right_separator_range) == \n",
    "    sum( \n",
    "        ( chemical_MW[5] * reactor_conversion_pct[r] * (b[m, r, 1]/chemical_MW[1]) ) \n",
    "    for m in left_separator_range));\n",
    "\n",
    "## CALCULATIONS (REACTORS -> R SEPARATORS)\n",
    "@constraint(model,\n",
    "    material_R_separation_to_waste[s in right_separator_range, p in 1:4],\n",
    "    sum( (right_separator_recovery_pct[s] * d[r, s, p]) for r in reactor_range) == \n",
    "    sum( (delta_e[s, l, p]) for l in right_waste_range)) \n",
    "@constraint(model,\n",
    "    ECH_r_separation[s in right_separator_range],\n",
    "    sum( (d[r, s, 5]) for r in reactor_range) ==\n",
    "    sum( (e[s, k, 5]) for k in customer_range))\n",
    "@constraint(model,\n",
    "    material_R_separation_to_customers[s in right_separator_range, p in 1:4],\n",
    "    sum( ( (1 - right_separator_recovery_pct[s]) * (d[r, s, p]) ) for r in reactor_range) == \n",
    "    sum( (e[s, k, p]) for k in customer_range));\n",
    "\n",
    "## REVENUE FROM CUSTOMER SALES\n",
    "@constraint(model,\n",
    "    R_k == sum( \n",
    "                sum( \n",
    "                    (customer_unit_revenue[k] * e[s, k, 5]) \n",
    "                for k in customer_range) \n",
    "            for s in right_separator_range))\n",
    "\n",
    "## JUST BE BE SURE (LOL)\n",
    "@constraint(model,\n",
    "    right_waste_sanity_check[s in right_separator_range, l in right_waste_range],\n",
    "    delta_e[s, l, 5] == 0)\n",
    "\n",
    "# print(model)  #use to spot check\n",
    "\n",
    "## OBJECTIVE FUNCTION (MAX NET PROFIT)\n",
    "@objective(model,\n",
    "    Max,\n",
    "    R_k - (UC_n + FC_m + UC_m + UC_j + FC_r + UC_r + FC_s + UC_s + UC_l));"
   ]
  },
  {
   "cell_type": "code",
   "execution_count": 50,
   "id": "2d46f69c-e65d-4cf8-b025-02cd210cd3b4",
   "metadata": {},
   "outputs": [
    {
     "name": "stdout",
     "output_type": "stream",
     "text": [
      "Gurobi Optimizer version 10.0.2 build v10.0.2rc0 (mac64[arm])\n",
      "\n",
      "CPU model: Apple M2 Pro\n",
      "Thread count: 12 physical cores, 12 logical processors, using up to 12 threads\n",
      "\n",
      "Optimize a model with 872 rows, 485 columns and 3815 nonzeros\n",
      "Model fingerprint: 0xceef6505\n",
      "Variable types: 470 continuous, 15 integer (15 binary)\n",
      "Coefficient statistics:\n",
      "  Matrix range     [5e-03, 1e+09]\n",
      "  Objective range  [1e+00, 1e+00]\n",
      "  Bounds range     [0e+00, 0e+00]\n",
      "  RHS range        [1e+03, 2e+04]\n",
      "Warning: Model contains large matrix coefficients\n",
      "         Consider reformulating model or setting NumericFocus parameter\n",
      "         to avoid numerical issues.\n",
      "Found heuristic solution: objective -0.0000000\n",
      "Presolve removed 189 rows and 65 columns\n",
      "Presolve time: 0.01s\n",
      "Presolved: 683 rows, 420 columns, 2922 nonzeros\n",
      "Variable types: 405 continuous, 15 integer (15 binary)\n",
      "\n",
      "Root relaxation: objective 1.195775e+07, 492 iterations, 0.01 seconds (0.01 work units)\n",
      "\n",
      "    Nodes    |    Current Node    |     Objective Bounds      |     Work\n",
      " Expl Unexpl |  Obj  Depth IntInf | Incumbent    BestBd   Gap | It/Node Time\n",
      "\n",
      "     0     0 1.1958e+07    0    5   -0.00000 1.1958e+07      -     -    0s\n",
      "H    0     0                    1.084871e+07 1.1958e+07  10.2%     -    0s\n",
      "H    0     0                    1.159985e+07 1.1958e+07  3.09%     -    0s\n",
      "     0     0 1.1956e+07    0    6 1.1600e+07 1.1956e+07  3.07%     -    0s\n",
      "H    0     0                    1.163443e+07 1.1895e+07  2.24%     -    0s\n",
      "     0     0 1.1773e+07    0    4 1.1634e+07 1.1773e+07  1.19%     -    0s\n",
      "H    0     0                    1.173443e+07 1.1773e+07  0.33%     -    0s\n",
      "\n",
      "Cutting planes:\n",
      "  Gomory: 3\n",
      "  MIR: 6\n",
      "  Flow cover: 2\n",
      "  Relax-and-lift: 2\n",
      "\n",
      "Explored 1 nodes (537 simplex iterations) in 0.04 seconds (0.03 work units)\n",
      "Thread count was 12 (of 12 available processors)\n",
      "\n",
      "Solution count 5: 1.17344e+07 1.16344e+07 1.15999e+07 ... -0\n",
      "\n",
      "Optimal solution found (tolerance 1.00e-04)\n",
      "Best objective 1.173442730827e+07, best bound 1.173442730827e+07, gap 0.0000%\n",
      "\n",
      "User-callback calls 424, time in user-callback 0.00 sec\n"
     ]
    }
   ],
   "source": [
    "optimize!(model)"
   ]
  },
  {
   "cell_type": "markdown",
   "id": "6cf51e91-c2dd-4a12-a442-9d02c1872643",
   "metadata": {},
   "source": [
    "### Conservation of Total Flow / Mass"
   ]
  },
  {
   "cell_type": "code",
   "execution_count": 51,
   "id": "90a470a7-bed9-467f-8fb4-d8125d863bfb",
   "metadata": {},
   "outputs": [
    {
     "name": "stdout",
     "output_type": "stream",
     "text": [
      "Into (L) Separators -> 22694.736842105263, Out of (L) Separators -> 22694.736842105263\n"
     ]
    }
   ],
   "source": [
    "println(\"Into (L) Separators -> \", sum(value.(a)), \", Out of (L) Separators -> \", sum(value.(b)) + sum(value.(delta_b)))"
   ]
  },
  {
   "cell_type": "code",
   "execution_count": 52,
   "id": "2c3170eb-1813-4ef5-aabc-3c5abf42b369",
   "metadata": {},
   "outputs": [
    {
     "name": "stdout",
     "output_type": "stream",
     "text": [
      "Into Reactor -> 20000.0, Out of Reactor -> 19997.836964508897\n"
     ]
    }
   ],
   "source": [
    "println(\"Into Reactor -> \", sum(value.(b)), \", Out of Reactor -> \", sum(value.(d)))"
   ]
  },
  {
   "cell_type": "code",
   "execution_count": 53,
   "id": "6d2484c0-f8d6-4abd-bdc5-0201c4ed938c",
   "metadata": {},
   "outputs": [
    {
     "name": "stdout",
     "output_type": "stream",
     "text": [
      "Into (R) Separators -> 19997.836964508897, Out of (R) Separators -> 19997.836964508893\n"
     ]
    }
   ],
   "source": [
    "println(\"Into (R) Separators -> \", sum(value.(d)), \", Out of (R) Separators -> \", sum(value.(e)) + sum(value.(delta_e)))"
   ]
  },
  {
   "cell_type": "markdown",
   "id": "cc5ccb06-c461-4ca4-85fd-44429db6d4d3",
   "metadata": {},
   "source": [
    "### Initial Stage (Suppliers, first separation, & primary waste plant)"
   ]
  },
  {
   "cell_type": "code",
   "execution_count": 54,
   "id": "60f5063f-d7fe-4243-b888-3384194f3673",
   "metadata": {},
   "outputs": [
    {
     "name": "stdout",
     "output_type": "stream",
     "text": [
      "Purchases from suppliers: DCH -> 18077.820018730086, NaOH -> 4616.916823375177\n"
     ]
    }
   ],
   "source": [
    "println(\"Purchases from suppliers: DCH -> \", sum(value.(a)[:, :, 1]), \", NaOH -> \", sum(value.(a)[:, :, 2]))"
   ]
  },
  {
   "cell_type": "code",
   "execution_count": 55,
   "id": "72937d5a-46ae-409f-b47a-179323191481",
   "metadata": {},
   "outputs": [
    {
     "name": "stdout",
     "output_type": "stream",
     "text": [
      "Left separators to reactors: DCH -> 15673.929017793582, NaOH -> 4326.070982206418\n"
     ]
    }
   ],
   "source": [
    "println(\"Left separators to reactors: DCH -> \", sum(value.(b)[:, :, 1]), \", NaOH -> \", sum(value.(b)[:, :, 2]))"
   ]
  },
  {
   "cell_type": "code",
   "execution_count": 56,
   "id": "45b4965b-770d-41bf-a293-b1a6f71e2d3c",
   "metadata": {},
   "outputs": [
    {
     "name": "stdout",
     "output_type": "stream",
     "text": [
      "Left separators into waste plant: DCH -> 2403.8910009365045, NaOH -> 290.84584116875885\n"
     ]
    }
   ],
   "source": [
    "println(\"Left separators into waste plant: DCH -> \", sum(value.(delta_b)[:, : ,1]), \", NaOH -> \", sum(value.(delta_b)[:, :, 2]))"
   ]
  },
  {
   "cell_type": "code",
   "execution_count": 57,
   "id": "f2720fc6-57f5-47a4-b4a9-d54fe5c882bc",
   "metadata": {},
   "outputs": [
    {
     "name": "stdout",
     "output_type": "stream",
     "text": [
      "Total from left separators: DCH -> 18077.820018730086, NaOH -> 4616.916823375177\n"
     ]
    }
   ],
   "source": [
    "println(\"Total from left separators: DCH -> \", sum(value.(b)[:, :, 1])+sum(value.(delta_b)[:, : ,1]), \", NaOH -> \", sum(value.(b)[:, :, 2])+sum(value.(delta_b)[:, :, 2]))"
   ]
  },
  {
   "cell_type": "markdown",
   "id": "6ba042f0-aa03-4500-8a6f-712262d36616",
   "metadata": {},
   "source": [
    "### Final Stage (Reaction, second separation, secondary waste plant, & customers)"
   ]
  },
  {
   "cell_type": "code",
   "execution_count": 58,
   "id": "1cacdee8-19e6-41b7-bfae-ff7fc76b7371",
   "metadata": {},
   "outputs": [
    {
     "name": "stdout",
     "output_type": "stream",
     "text": [
      "Out of reactors: DCH -> 1724.5131356689906, NaOH -> 0.0, NaCl -> 6320.389705003575, H2O -> 1946.7319419928874, ECH -> 10006.202181843442\n"
     ]
    }
   ],
   "source": [
    "println(\"Out of reactors: DCH -> \", sum(value.(d)[:, : ,1]), \", NaOH -> \", sum(value.(d)[:, :, 2]), \n",
    "\", NaCl -> \", sum(value.(d)[:, : ,3]), \", H2O -> \", sum(value.(d)[:, :, 4]), \n",
    "\", ECH -> \", sum(value.(d)[:, : ,5]))"
   ]
  },
  {
   "cell_type": "code",
   "execution_count": 59,
   "id": "1aa31a97-acfd-43fe-bf13-9c9d6ce7fb9f",
   "metadata": {},
   "outputs": [
    {
     "name": "stdout",
     "output_type": "stream",
     "text": [
      "Right separators to customers: DCH -> 258.67697035034865, NaOH -> 0.0, NaCl -> 604.9167598265233, H2O -> 97.33659709964445, ECH -> 10006.202181843442\n"
     ]
    }
   ],
   "source": [
    "println(\"Right separators to customers: DCH -> \", sum(value.(e)[:, : ,1]), \", NaOH -> \", sum(value.(e)[:, :, 2]), \n",
    "\", NaCl -> \", sum(value.(e)[:, : ,3]), \", H2O -> \", sum(value.(e)[:, :, 4]), \n",
    "\", ECH -> \", sum(value.(e)[:, : ,5]))"
   ]
  },
  {
   "cell_type": "code",
   "execution_count": 60,
   "id": "52e2dd9f-6cbf-4652-a822-ac4f3e56a3ea",
   "metadata": {},
   "outputs": [
    {
     "name": "stdout",
     "output_type": "stream",
     "text": [
      "Right separators into waste plant: DCH -> 1465.836165318642, NaOH -> 0.0, NaCl -> 5715.472945177051, H2O -> 1849.395344893243, ECH -> 0.0\n"
     ]
    }
   ],
   "source": [
    "println(\"Right separators into waste plant: DCH -> \", sum(value.(delta_e)[:, : ,1]), \", NaOH -> \", sum(value.(delta_e)[:, :, 2]), \n",
    "\", NaCl -> \", sum(value.(delta_e)[:, : ,3]), \", H2O -> \", sum(value.(delta_e)[:, :, 4]), \n",
    "\", ECH -> \", sum(value.(delta_e)[:, : ,5]))"
   ]
  },
  {
   "cell_type": "code",
   "execution_count": 61,
   "id": "92a8d775-c5be-413a-9819-1802a5927daa",
   "metadata": {},
   "outputs": [
    {
     "name": "stdout",
     "output_type": "stream",
     "text": [
      "Total from right separators: DCH -> 1724.5131356689908, NaOH -> 0.0, NaCl -> 6320.389705003574, H2O -> 1946.7319419928874, ECH -> 10006.202181843442\n"
     ]
    }
   ],
   "source": [
    "println(\"Total from right separators: DCH -> \", sum(value.(e)[:, :, 1])+sum(value.(delta_e)[:, : ,1]), \", NaOH -> \", sum(value.(e)[:, :, 2])+sum(value.(delta_e)[:, : ,2]), \n",
    "\", NaCl -> \", sum(value.(e)[:, : ,3])+sum(value.(delta_e)[:, : ,3]), \", H2O -> \", sum(value.(e)[:, :, 4])+sum(value.(delta_e)[:, : ,4]), \n",
    "\", ECH -> \", sum(value.(e)[:, : ,5])+sum(value.(delta_e)[:, : ,5]))"
   ]
  },
  {
   "cell_type": "markdown",
   "id": "46004aed-50c0-403c-9fe4-cea1193172e7",
   "metadata": {},
   "source": [
    "### Check Individual Values"
   ]
  },
  {
   "cell_type": "code",
   "execution_count": 62,
   "id": "8a943074-b9e3-4233-baf3-2b22f67e7cd3",
   "metadata": {},
   "outputs": [
    {
     "data": {
      "text/plain": [
       "3-dimensional DenseAxisArray{Float64,3,...} with index sets:\n",
       "    Dimension 1, 1:10\n",
       "    Dimension 2, 1:5\n",
       "    Dimension 3, 1:2\n",
       "And data, a 10×5×2 Array{Float64, 3}:\n",
       "[:, :, 1] =\n",
       " 1694.74  0.0  0.0     0.0  6383.08\n",
       "    0.0   0.0  0.0     0.0     0.0\n",
       "    0.0   0.0  0.0     0.0     0.0\n",
       " 3000.0   0.0  0.0  7000.0     0.0\n",
       "    0.0   0.0  0.0     0.0     0.0\n",
       "    0.0   0.0  0.0     0.0     0.0\n",
       "    0.0   0.0  0.0     0.0     0.0\n",
       "    0.0   0.0  0.0     0.0     0.0\n",
       "    0.0   0.0  0.0     0.0     0.0\n",
       "    0.0   0.0  0.0     0.0     0.0\n",
       "\n",
       "[:, :, 2] =\n",
       "    0.0  0.0  0.0  0.0     0.0\n",
       "    0.0  0.0  0.0  0.0     0.0\n",
       "    0.0  0.0  0.0  0.0     0.0\n",
       "    0.0  0.0  0.0  0.0     0.0\n",
       "    0.0  0.0  0.0  0.0     0.0\n",
       "    0.0  0.0  0.0  0.0  1616.92\n",
       "    0.0  0.0  0.0  0.0     0.0\n",
       " 3000.0  0.0  0.0  0.0     0.0\n",
       "    0.0  0.0  0.0  0.0     0.0\n",
       "    0.0  0.0  0.0  0.0     0.0"
      ]
     },
     "execution_count": 62,
     "metadata": {},
     "output_type": "execute_result"
    }
   ],
   "source": [
    "value.(a)  #supplier x left separator"
   ]
  },
  {
   "cell_type": "code",
   "execution_count": 63,
   "id": "fd1a3e0c-ea5e-431e-960d-c540119850e6",
   "metadata": {},
   "outputs": [
    {
     "data": {
      "text/plain": [
       "3-dimensional DenseAxisArray{Float64,3,...} with index sets:\n",
       "    Dimension 1, 1:5\n",
       "    Dimension 2, 1:1\n",
       "    Dimension 3, 1:2\n",
       "And data, a 5×1×2 Array{Float64, 3}:\n",
       "[:, :, 1] =\n",
       "  684.7368421052631\n",
       "    0.0\n",
       "    0.0\n",
       " 1400.0\n",
       "  319.15415883124115\n",
       "\n",
       "[:, :, 2] =\n",
       " 210.00000000000003\n",
       "   0.0\n",
       "   0.0\n",
       "   0.0\n",
       "  80.84584116875885"
      ]
     },
     "execution_count": 63,
     "metadata": {},
     "output_type": "execute_result"
    }
   ],
   "source": [
    "value.(delta_b)  #left separator x waste plant"
   ]
  },
  {
   "cell_type": "code",
   "execution_count": 64,
   "id": "edb4b591-e614-449e-8d6d-c3179f7ae932",
   "metadata": {},
   "outputs": [
    {
     "data": {
      "text/plain": [
       "3-dimensional DenseAxisArray{Float64,3,...} with index sets:\n",
       "    Dimension 1, 1:5\n",
       "    Dimension 2, 1:5\n",
       "    Dimension 3, 1:2\n",
       "And data, a 5×5×2 Array{Float64, 3}:\n",
       "[:, :, 1] =\n",
       " 1753.99  0.0  0.0  0.0  2256.01\n",
       "    0.0   0.0  0.0  0.0     0.0\n",
       "    0.0   0.0  0.0  0.0     0.0\n",
       "    0.0   0.0  0.0  0.0  5600.0\n",
       " 6063.93  0.0  0.0  0.0     0.0\n",
       "\n",
       "[:, :, 2] =\n",
       "  646.012  0.0  0.0  0.0  2143.99\n",
       "    0.0    0.0  0.0  0.0     0.0\n",
       "    0.0    0.0  0.0  0.0     0.0\n",
       "    0.0    0.0  0.0  0.0     0.0\n",
       " 1536.07   0.0  0.0  0.0     0.0"
      ]
     },
     "execution_count": 64,
     "metadata": {},
     "output_type": "execute_result"
    }
   ],
   "source": [
    "value.(b)  #left separator x reactor"
   ]
  },
  {
   "cell_type": "code",
   "execution_count": 65,
   "id": "dce6cbde-99e1-4f59-8b81-7c4b6039b35b",
   "metadata": {},
   "outputs": [
    {
     "data": {
      "text/plain": [
       "3-dimensional DenseAxisArray{Float64,3,...} with index sets:\n",
       "    Dimension 1, 1:5\n",
       "    Dimension 2, 1:5\n",
       "    Dimension 3, 1:5\n",
       "And data, a 5×5×5 Array{Float64, 3}:\n",
       "[:, :, 1] =\n",
       " 0.0  0.0  0.0  781.792  0.0\n",
       " 0.0  0.0  0.0    0.0    0.0\n",
       " 0.0  0.0  0.0    0.0    0.0\n",
       " 0.0  0.0  0.0    0.0    0.0\n",
       " 0.0  0.0  0.0  942.721  0.0\n",
       "\n",
       "[:, :, 2] =\n",
       " 0.0  0.0  0.0  0.0  0.0\n",
       " 0.0  0.0  0.0  0.0  0.0\n",
       " 0.0  0.0  0.0  0.0  0.0\n",
       " 0.0  0.0  0.0  0.0  0.0\n",
       " 0.0  0.0  0.0  0.0  0.0\n",
       "\n",
       "[:, :, 3] =\n",
       " 0.0   299.05  0.0  2888.97  0.0\n",
       " 0.0     0.0   0.0     0.0   0.0\n",
       " 0.0     0.0   0.0     0.0   0.0\n",
       " 0.0     0.0   0.0     0.0   0.0\n",
       " 0.0  3132.37  0.0     0.0   0.0\n",
       "\n",
       "[:, :, 4] =\n",
       " 0.0  981.937  0.0  0.0  0.0\n",
       " 0.0    0.0    0.0  0.0  0.0\n",
       " 0.0    0.0    0.0  0.0  0.0\n",
       " 0.0    0.0    0.0  0.0  0.0\n",
       " 0.0  964.795  0.0  0.0  0.0\n",
       "\n",
       "[:, :, 5] =\n",
       " 0.0     0.0   0.0  5047.16   0.0\n",
       " 0.0     0.0   0.0     0.0    0.0\n",
       " 0.0     0.0   0.0     0.0    0.0\n",
       " 0.0     0.0   0.0     0.0    0.0\n",
       " 0.0  4621.85  0.0   337.194  0.0"
      ]
     },
     "execution_count": 65,
     "metadata": {},
     "output_type": "execute_result"
    }
   ],
   "source": [
    "value.(d)  #reactor x right separator"
   ]
  },
  {
   "cell_type": "code",
   "execution_count": 66,
   "id": "625019f7-cb0a-4148-90cd-ae6746817579",
   "metadata": {},
   "outputs": [
    {
     "data": {
      "text/plain": [
       "3-dimensional DenseAxisArray{Float64,3,...} with index sets:\n",
       "    Dimension 1, 1:5\n",
       "    Dimension 2, 1:6\n",
       "    Dimension 3, 1:5\n",
       "And data, a 5×6×5 Array{Float64, 3}:\n",
       "[:, :, 1] =\n",
       "  0.0     0.0  0.0        0.0  0.0    0.0\n",
       "  0.0     0.0  0.0        0.0  0.0    0.0\n",
       "  0.0     0.0  0.0        0.0  0.0    0.0\n",
       " 30.1591  0.0  0.0108152  0.0  0.0  228.507\n",
       "  0.0     0.0  0.0        0.0  0.0    0.0\n",
       "\n",
       "[:, :, 2] =\n",
       " 0.0  0.0  0.0  0.0  0.0  0.0\n",
       " 0.0  0.0  0.0  0.0  0.0  0.0\n",
       " 0.0  0.0  0.0  0.0  0.0  0.0\n",
       " 0.0  0.0  0.0  0.0  0.0  0.0\n",
       " 0.0  0.0  0.0  0.0  0.0  0.0\n",
       "\n",
       "[:, :, 3] =\n",
       "  0.0       0.0         0.0     0.0  0.0    0.0\n",
       "  0.0       0.0778693   0.0     0.0  0.0  171.493\n",
       "  0.0       0.0         0.0     0.0  0.0    0.0\n",
       " 23.4346  359.922      49.9892  0.0  0.0    0.0\n",
       "  0.0       0.0         0.0     0.0  0.0    0.0\n",
       "\n",
       "[:, :, 4] =\n",
       "  0.0     0.0  0.0  0.0  0.0  0.0\n",
       " 97.3366  0.0  0.0  0.0  0.0  0.0\n",
       "  0.0     0.0  0.0  0.0  0.0  0.0\n",
       "  0.0     0.0  0.0  0.0  0.0  0.0\n",
       "  0.0     0.0  0.0  0.0  0.0  0.0\n",
       "\n",
       "[:, :, 5] =\n",
       "    0.0     0.0          0.0  0.0  0.0     0.0\n",
       " 1006.2     0.648911  1000.0  0.0  0.0  2615.0\n",
       "    0.0     0.0          0.0  0.0  0.0     0.0\n",
       "    0.0  2999.35         0.0  0.0  0.0  2385.0\n",
       "    0.0     0.0          0.0  0.0  0.0     0.0"
      ]
     },
     "execution_count": 66,
     "metadata": {},
     "output_type": "execute_result"
    }
   ],
   "source": [
    "value.(e)  #right separator x customers"
   ]
  },
  {
   "cell_type": "code",
   "execution_count": 67,
   "id": "9336f718-5f66-4c33-bc7f-c5d8a56e327a",
   "metadata": {},
   "outputs": [
    {
     "data": {
      "text/plain": [
       "3-dimensional DenseAxisArray{Float64,3,...} with index sets:\n",
       "    Dimension 1, 1:5\n",
       "    Dimension 2, 1:1\n",
       "    Dimension 3, 1:5\n",
       "And data, a 5×1×5 Array{Float64, 3}:\n",
       "[:, :, 1] =\n",
       "    0.0\n",
       "    0.0\n",
       "    0.0\n",
       " 1465.836165318642\n",
       "    0.0\n",
       "\n",
       "[:, :, 2] =\n",
       " 0.0\n",
       " 0.0\n",
       " 0.0\n",
       " 0.0\n",
       " 0.0\n",
       "\n",
       "[:, :, 3] =\n",
       "    0.0\n",
       " 3259.846111278124\n",
       "    0.0\n",
       " 2455.626833898927\n",
       "    0.0\n",
       "\n",
       "[:, :, 4] =\n",
       "    0.0\n",
       " 1849.395344893243\n",
       "    0.0\n",
       "    0.0\n",
       "    0.0\n",
       "\n",
       "[:, :, 5] =\n",
       " 0.0\n",
       " 0.0\n",
       " 0.0\n",
       " 0.0\n",
       " 0.0"
      ]
     },
     "execution_count": 67,
     "metadata": {},
     "output_type": "execute_result"
    }
   ],
   "source": [
    "value.(delta_e)  #right separator x right waste plant"
   ]
  },
  {
   "cell_type": "markdown",
   "id": "2ed22651-0c71-4847-8858-787f3f3bccc7",
   "metadata": {},
   "source": [
    "### Check Capacities / Supply Constraints"
   ]
  },
  {
   "cell_type": "code",
   "execution_count": 68,
   "id": "d12a76cd-2e58-47ad-9789-94ed11f8c219",
   "metadata": {},
   "outputs": [
    {
     "name": "stdout",
     "output_type": "stream",
     "text": [
      "Puchased 8077.82 units from supplier #1, had capacity 10000.0\n",
      "Puchased 0.0 units from supplier #2, had capacity 10000.0\n",
      "Puchased 0.0 units from supplier #3, had capacity 5000.0\n",
      "Puchased 10000.0 units from supplier #4, had capacity 10000.0\n",
      "Puchased 0.0 units from supplier #5, had capacity 5000.0\n",
      "Puchased 1616.917 units from supplier #6, had capacity 2500.0\n",
      "Puchased 0.0 units from supplier #7, had capacity 2000.0\n",
      "Puchased 3000.0 units from supplier #8, had capacity 3000.0\n",
      "Puchased 0.0 units from supplier #9, had capacity 2000.0\n",
      "Puchased 0.0 units from supplier #10, had capacity 2500.0\n"
     ]
    }
   ],
   "source": [
    "for i in full_supplier_range\n",
    "    println(\"Puchased \", round(sum(value.(a)[i, :, :]), digits=3), \" units from supplier #$i, had capacity \", supplier_supply[i])\n",
    "end"
   ]
  },
  {
   "cell_type": "code",
   "execution_count": 69,
   "id": "93f726c1-8c4c-45ce-8a08-c1fd1f08bd64",
   "metadata": {},
   "outputs": [
    {
     "name": "stdout",
     "output_type": "stream",
     "text": [
      "Separator #1 was sent 7694.737, had capacity 10000\n",
      "Separator #2 was sent 0.0, had capacity 20000\n",
      "Separator #3 was sent 0.0, had capacity 21000\n",
      "Separator #4 was sent 7000.0, had capacity 7000\n",
      "Separator #5 was sent 8000.0, had capacity 8000\n"
     ]
    }
   ],
   "source": [
    "for i in left_separator_range\n",
    "    println(\"Separator #$i was sent \", round(sum(value.(a)[:, i, :]), digits=3), \", had capacity \", left_separator_capacity[i])\n",
    "end"
   ]
  },
  {
   "cell_type": "code",
   "execution_count": 70,
   "id": "2316e00d-6a13-43cb-a9e0-ca96b3c78626",
   "metadata": {},
   "outputs": [
    {
     "name": "stdout",
     "output_type": "stream",
     "text": [
      "Separator #1 disposed of 894.737 units of material\n",
      "Separator #2 disposed of 0.0 units of material\n",
      "Separator #3 disposed of 0.0 units of material\n",
      "Separator #4 disposed of 1400.0 units of material\n",
      "Separator #5 disposed of 400.0 units of material\n"
     ]
    }
   ],
   "source": [
    "for i in left_separator_range\n",
    "    println(\"Separator #$i disposed of \", round(sum(value.(delta_b)[i, :, :]), digits=3), \" units of material\")\n",
    "end"
   ]
  },
  {
   "cell_type": "code",
   "execution_count": 71,
   "id": "4b40e908-9505-4ed3-9541-e1048f8961ac",
   "metadata": {},
   "outputs": [
    {
     "name": "stdout",
     "output_type": "stream",
     "text": [
      "Reactor #1 received 10000.0 units of materials, had capacity 10000.0\n",
      "Reactor #2 received 0.0 units of materials, had capacity 10000.0\n",
      "Reactor #3 received 0.0 units of materials, had capacity 10000.0\n",
      "Reactor #4 received 0.0 units of materials, had capacity 10000.0\n",
      "Reactor #5 received 10000.0 units of materials, had capacity 10000.0\n"
     ]
    }
   ],
   "source": [
    "for i in reactor_range\n",
    "    println(\"Reactor #$i received \", round(sum(value.(b)[:, i, :]), digits=3), \" units of materials, had capacity \", reactor_capacity[i])\n",
    "end"
   ]
  },
  {
   "cell_type": "code",
   "execution_count": 72,
   "id": "1fe7efc8-ed8a-433e-986c-83b378569004",
   "metadata": {},
   "outputs": [
    {
     "name": "stdout",
     "output_type": "stream",
     "text": [
      "Separator #1 was sent 0.0, had capacity 10000.0\n",
      "Separator #2 was sent 10000.0, had capacity 10000.0\n",
      "Separator #3 was sent 0.0, had capacity 10000.0\n",
      "Separator #4 was sent 9997.837, had capacity 10000.0\n",
      "Separator #5 was sent 0.0, had capacity 10000.0\n"
     ]
    }
   ],
   "source": [
    "for i in right_separator_range\n",
    "    println(\"Separator #$i was sent \", round(sum(value.(d)[:, i, :]), digits=3), \", had capacity \", right_separator_capacity[i])\n",
    "end"
   ]
  },
  {
   "cell_type": "code",
   "execution_count": 73,
   "id": "f289613b-287a-4165-abdb-7f5573f72eed",
   "metadata": {},
   "outputs": [
    {
     "name": "stdout",
     "output_type": "stream",
     "text": [
      "Separator #1 disposed of 0.0 units of material\n",
      "Separator #2 disposed of 5109.241 units of material\n",
      "Separator #3 disposed of 0.0 units of material\n",
      "Separator #4 disposed of 3921.463 units of material\n",
      "Separator #5 disposed of 0.0 units of material\n"
     ]
    }
   ],
   "source": [
    "for i in right_separator_range\n",
    "    println(\"Separator #$i disposed of \", round(sum(value.(delta_e)[i, :, :]), digits=3), \" units of material\")\n",
    "end"
   ]
  },
  {
   "cell_type": "code",
   "execution_count": 74,
   "id": "cebe0fd4-31c0-466e-ad4e-f0b5b1a736dc",
   "metadata": {},
   "outputs": [
    {
     "name": "stdout",
     "output_type": "stream",
     "text": [
      "Customer #1 received 1006.202 units of ECH, had demand of 5000.0\n",
      "Customer #2 received 3000.0 units of ECH, had demand of 3000.0\n",
      "Customer #3 received 1000.0 units of ECH, had demand of 1000.0\n",
      "Customer #4 received 0.0 units of ECH, had demand of 8000.0\n",
      "Customer #5 received 0.0 units of ECH, had demand of 8000.0\n",
      "Customer #6 received 5000.0 units of ECH, had demand of 5000.0\n"
     ]
    }
   ],
   "source": [
    "for i in customer_range\n",
    "    println(\"Customer #$i received \", round(sum(value.(e)[:, i, 5]), digits=3), \" units of ECH, had demand of \", customer_demand[i])\n",
    "end"
   ]
  },
  {
   "cell_type": "code",
   "execution_count": 75,
   "id": "223c78a4-19f6-4ee6-8aca-daab1bc1743a",
   "metadata": {},
   "outputs": [
    {
     "name": "stdout",
     "output_type": "stream",
     "text": [
      "Customer #1 received 150.93 units of non-ECH material, maximum was 150.93, had requirement of 0.15\n",
      "Customer #2 received 360.0 units of non-ECH material, maximum was 360.0, had requirement of 0.12\n",
      "Customer #3 received 50.0 units of non-ECH material, maximum was 50.0, had requirement of 0.05\n",
      "Customer #4 received 0.0 units of non-ECH material, maximum was 0.0, had requirement of 0.14\n",
      "Customer #5 received 0.0 units of non-ECH material, maximum was 0.0, had requirement of 0.17\n",
      "Customer #6 received 400.0 units of non-ECH material, maximum was 400.0, had requirement of 0.08\n"
     ]
    }
   ],
   "source": [
    "for i in customer_range\n",
    "    println(\"Customer #$i received \", round(sum(value.(e)[:, i, 1:4]), digits=3), \" units of non-ECH material, maximum was \", round(customer_purity_pct[i] * sum(value.(e)[:, i, 5]), digits=3), \", had requirement of \", customer_purity_pct[i])\n",
    "end"
   ]
  },
  {
   "cell_type": "markdown",
   "id": "a96ad795-e390-4a21-bb6c-0e659935f18e",
   "metadata": {},
   "source": [
    "### Cost / Financial Analysis"
   ]
  },
  {
   "cell_type": "code",
   "execution_count": 92,
   "id": "f0a37a4b-8e55-4037-b8c8-635c573c1e49",
   "metadata": {},
   "outputs": [
    {
     "name": "stdout",
     "output_type": "stream",
     "text": [
      "Right waste organic unit cost: 732918.082659321\n"
     ]
    }
   ],
   "source": [
    "println(\"Right waste organic unit cost: \", sum(value.(delta_e[:, :, 1]) .* right_waste_organic_unit_cost))"
   ]
  },
  {
   "cell_type": "code",
   "execution_count": 93,
   "id": "be1895ae-8d6b-476d-8e84-a5c8d6f4d153",
   "metadata": {},
   "outputs": [
    {
     "name": "stdout",
     "output_type": "stream",
     "text": [
      "Right waste aqueous unit cost: 756486.8290070294\n"
     ]
    }
   ],
   "source": [
    "println(\"Right waste aqueous unit cost: \", sum(value.(delta_e[:, :, 2:5]) .* right_waste_aqueous_unit_cost))"
   ]
  },
  {
   "cell_type": "code",
   "execution_count": 97,
   "id": "eb3031cc-09f3-4726-a835-720cf40ba506",
   "metadata": {},
   "outputs": [
    {
     "name": "stdout",
     "output_type": "stream",
     "text": [
      "% of Organic right waste: 16.231692361983196\n"
     ]
    }
   ],
   "source": [
    "println(\"% of Organic right waste: \", 100*sum(value.(delta_e[:, :, 1])) / (sum(value.(delta_e[:, :, 1])) + sum(value.(delta_e[:, :, 2:5]))))"
   ]
  },
  {
   "cell_type": "code",
   "execution_count": 76,
   "id": "d289c522-c3aa-42a6-95ba-91a2242c7ae1",
   "metadata": {},
   "outputs": [
    {
     "name": "stdout",
     "output_type": "stream",
     "text": [
      "Unit Cost -> 8.143477420116127e6\n"
     ]
    }
   ],
   "source": [
    "println(\"Unit Cost -> \", value.(UC_n))  #unit cost of purchasing"
   ]
  },
  {
   "cell_type": "code",
   "execution_count": 77,
   "id": "87918759-14c1-4896-aefa-f89dd4707c6e",
   "metadata": {},
   "outputs": [
    {
     "name": "stdout",
     "output_type": "stream",
     "text": [
      "Unit Cost -> 989736.8421052631, Fixed Cost -> 225000.0\n"
     ]
    }
   ],
   "source": [
    "println(\"Unit Cost -> \", value.(UC_m), \", Fixed Cost -> \", value.(FC_m))  #unit cost of left separators, fixed cost of using left separators"
   ]
  },
  {
   "cell_type": "code",
   "execution_count": 78,
   "id": "a4c8408c-c33e-408d-bdb8-45a1f034dd91",
   "metadata": {},
   "outputs": [
    {
     "name": "stdout",
     "output_type": "stream",
     "text": [
      "Unit Cost -> 1.85e6, Fixed Cost -> 900000.0\n"
     ]
    }
   ],
   "source": [
    "println(\"Unit Cost -> \", value.(UC_r), \", Fixed Cost -> \", value.(FC_r))  #unit cost of reactors, fixed cost of using reactors"
   ]
  },
  {
   "cell_type": "code",
   "execution_count": 79,
   "id": "5c415a46-9a73-4eb0-9345-b29a8c2136af",
   "metadata": {},
   "outputs": [
    {
     "name": "stdout",
     "output_type": "stream",
     "text": [
      "Unit Cost -> 999891.8482254447, Fixed Cost -> 250000.0\n"
     ]
    }
   ],
   "source": [
    "println(\"Unit Cost -> \", value.(UC_s), \", Fixed Cost -> \", value.(FC_s))  #unit cost of right separators, fixed cost of using right separators"
   ]
  },
  {
   "cell_type": "code",
   "execution_count": 80,
   "id": "94883c78-84b9-4773-85e8-cfe683980039",
   "metadata": {},
   "outputs": [
    {
     "name": "stdout",
     "output_type": "stream",
     "text": [
      "Unit Cost -> 269473.6842105263\n"
     ]
    }
   ],
   "source": [
    "println(\"Unit Cost -> \", value.(UC_j))  #unit cost of left waste plant disposal"
   ]
  },
  {
   "cell_type": "code",
   "execution_count": 81,
   "id": "1238054f-6a13-49f0-8610-20481e54ae7f",
   "metadata": {},
   "outputs": [
    {
     "name": "stdout",
     "output_type": "stream",
     "text": [
      "Unit Cost -> 1.4894049116663504e6\n"
     ]
    }
   ],
   "source": [
    "println(\"Unit Cost -> \", value.(UC_l))  #unit cost of right waste plant disposal"
   ]
  },
  {
   "cell_type": "code",
   "execution_count": 82,
   "id": "69cd4830-fddd-49d2-a315-68e90125c04b",
   "metadata": {},
   "outputs": [
    {
     "name": "stdout",
     "output_type": "stream",
     "text": [
      "Unit Cost -> 2.6851412014591936e7\n"
     ]
    }
   ],
   "source": [
    "println(\"Unit Cost -> \", value.(R_k))  #revenue of selling to customers"
   ]
  },
  {
   "cell_type": "code",
   "execution_count": 85,
   "id": "269b245d-3614-41fb-b7d1-298d5f63c3ca",
   "metadata": {},
   "outputs": [
    {
     "name": "stdout",
     "output_type": "stream",
     "text": [
      "Total Operating Cost -> 1.5116984706323711e7\n"
     ]
    }
   ],
   "source": [
    "println(\"Total Operating Cost -> \", value.(UC_n) + value.(FC_m) + value.(UC_m) + value.(FC_r) + value.(UC_r) + value.(FC_s) + value.(UC_s) + value.(UC_j) + value.(UC_l))"
   ]
  },
  {
   "cell_type": "code",
   "execution_count": 83,
   "id": "cc03ce9e-fb99-4423-9a20-d96d3573fe3e",
   "metadata": {},
   "outputs": [
    {
     "name": "stdout",
     "output_type": "stream",
     "text": [
      "Net Revenue from Solution: $11.734427308268225 million\n"
     ]
    }
   ],
   "source": [
    "println(\"Net Revenue from Solution: \\$$((JuMP.objective_value(model))/1e6) million\")"
   ]
  },
  {
   "cell_type": "markdown",
   "id": "6567a0f2-af78-4a19-8810-ff0aee98e15c",
   "metadata": {},
   "source": [
    "\\begin{align}\n",
    "    \\text{Flow Constraints (MT units):}& \\\\\n",
    "        &\\sum_{n=1}^{N} a_{nm}^{p} = \\sum_{j=1}^{J} \\Delta b_{mj}^{p} + \\sum_{r=1}^{R} b^{p}_{mr}\\ , \\quad \\forall p \\in \\{1, 2\\}, \\forall m \\in M, \\forall j \\in J \\\\\n",
    "        &\\sum_{m=1}^{M} \\sum_{p=1}^{P} b_{mr}^{p} = \\sum_{s=1}^{S}d_{rs}^{p}\\ , \\quad \\forall r \\in R, \\forall p \\in \\{1, 2\\} \\\\\n",
    "        &\\sum_{r=1}^{R} d_{rs}^{p} = \\sum_{l=1}^{L} \\Delta e_{sl}^{p} + \\sum_{k=1}^{K} e_{sk}^{p}\\ , \\quad \\forall s \\in S, \\forall p \\in P \\\\\n",
    "        &a_{nm}^{p} = b_{mr}^{p} = \\Delta b_{mj}^{p} = 0\\ , \\quad \\forall p \\in \\{3, 4, 5\\}, \\forall n \\in N, \\forall m \\in M \\\\ \\\\ \n",
    "    \\text{Fixed Cost for Left Separators:}& \\\\\n",
    "        &a_{nm}^{p} \\leq \\mathbf{M} \\times \\rho_{m}\\ , \\quad \\forall n \\in N, \\forall p \\in P, \\forall m \\in M \\\\\n",
    "        &b_{mr}^{p} \\leq \\mathbf{M} \\times \\rho_{m}\\ , \\quad \\forall p \\in P, \\forall m \\in M, \\forall r \\in R \\\\\n",
    "        &\\Delta b_{mj}^{p} \\leq \\mathbf{M} \\times \\rho_{m}\\ , \\quad \\forall p \\in P, \\forall m \\in M, \\forall j \\in J \\\\\n",
    "        &FC_{m} = \\sum_{m=1}^{M} f_{m} \\times \\rho_{m} \\\\\n",
    "    \\text{Fixed Cost for Reactors:}& \\\\\n",
    "        &b_{mr}^{p} \\leq \\mathbf{M} \\times \\sigma_{r}\\ , \\quad \\forall p \\in P, \\forall m \\in M, \\forall r \\in R \\\\\n",
    "        &d_{rs}^{p} \\leq \\mathbf{M} \\times \\sigma_{r}\\ , \\quad \\forall r \\in R, \\forall p \\in P, \\forall s \\in S \\\\\n",
    "        &FC_{r} = \\sum_{r=1}^{R} f_{r} \\times \\sigma_{r} \\\\ \\\\\n",
    "    \\text{Fixed Cost for Right Separators:}& \\\\\n",
    "        &d_{rs}^{p} \\leq \\mathbf{M} \\times \\mu_{s}\\ , \\quad \\forall r \\in R, \\forall p \\in P, \\forall s \\in S \\\\\n",
    "        &e_{sk}^{p} \\leq \\mathbf{M} \\times \\mu_{s}\\ , \\quad \\forall s \\in S, \\forall p \\in P, \\forall k \\in K \\\\\n",
    "        &\\Delta e_{sl}^{p} \\leq \\mathbf{M} \\times \\mu_{s}\\ , \\quad \\forall s \\in S, \\forall p \\in P, \\forall l \\in L \\\\\n",
    "        &FC_{s} = \\sum_{s=1}^{S} f_{r} \\times \\mu_{s} \\\\ \\\\\n",
    "    \\text{Demand Constraints:}& \\\\\n",
    "        &\\sum_{s=1}^{S} e_{sk}^{5} \\leq g_{k}\\ , \\quad \\forall k \\in K \\\\ \n",
    "        &\\sum_{s=1}^{S} \\sum_{p=1}^{4} e_{sk}^{p} \\leq \\nu_{k} \\times \\sum_{s=1}^{S} e_{sk}^{5}\\ , \\quad \\forall k \\in K\\\\\n",
    "    \\text{Calculate Unit Costs:}& \\\\\n",
    "        &UC_{n} = \\sum_{p=1}^{2} \\sum_{n=1}^{N} \\sum_{m=1}^{M} c_{n} \\times a_{nm}^{p} \\\\\n",
    "        &UC_{m} = \\sum_{p=1}^{P} \\sum_{n=1}^{N} \\sum_{m=1}^{M} c_{m} \\times a_{nm}^{p} \\\\\n",
    "        &UC_{j} = \\sum_{p=1}^{P} \\sum_{m=1}^{M} \\sum_{j=1}^{J} c_{j} \\times \\Delta b_{mj}^{p} \\\\\n",
    "        &UC_{r} = \\sum_{p=1}^{P} \\sum_{m=1}^{M}\\sum_{r=1}^{R} c_{r} \\times b_{mr}^{p} \\\\\n",
    "        &UC_{s} = \\sum_{p=1}^{P} \\sum_{r=1}^{R} \\sum_{s=1}^{S} c_{s} \\times d_{rs}^{p} \\\\\n",
    "        &UC_{l}= \\sum_{s=1}^{S} \\sum_{l=1}^{L} (c_{l}^{A} \\times \\Delta e_{sl}^{A} + c_{l}^{O} \\times \\Delta e_{sl}^{O}) \\\\ \\\\\n",
    "    \\text{Capacity Constriants:}& \\\\\n",
    "        &\\sum_{m=1}^{M} a_{nm}^{p} \\leq supply_{N}\\ , \\quad \\forall n \\in N, \\forall p \\in \\{1, 2\\} \\\\\n",
    "        &\\sum_{n=1}^{N} \\sum_{p=1}^{2} a_{nm}^{p} \\leq capacity_{M}\\ , \\quad \\forall m \\in M \\\\\n",
    "        &\\sum_{j=1}^{J} \\Delta b_{mj}^{p} + \\sum_{r=1}^{R} \\sum_{p=1}^{2} b_{mr}^{p} \\leq capacity_{M}\\ , \\quad \\forall m \\in M \\\\\n",
    "        &\\sum_{m=1}^{M} \\sum_{p=1}^{2} b_{mr}^{p} \\leq capacity_{R}\\ , \\quad \\forall r \\in R \\\\\n",
    "        &\\sum_{s=1}^{S} \\sum_{p=1}^{2} d_{rs}^{p} \\leq capacity_{R}\\ , \\quad \\forall r \\in R \\\\\n",
    "        &\\sum_{r=1}^{R} \\sum_{p=1}^{P} d_{rs}^{p} \\leq capacity_{S}\\ , \\quad \\forall s \\in S \\\\\n",
    "        &\\sum_{l=1}^{L} \\sum_{p=1}^{P} \\Delta e_{sl}^{p} + \\sum_{p=1}^{P} \\sum_{k=1}^{K} e_{sk}^{p} \\leq capacity_{S}\\ , \\quad \\forall s \\in S \\\\\n",
    "\\end{align}"
   ]
  },
  {
   "cell_type": "markdown",
   "id": "387e5ad5-ff6a-48ad-b293-0c47e17691b4",
   "metadata": {},
   "source": [
    "\\begin{align}\n",
    "    \\text{Calculations (Suppliers $\\rightarrow$ Left Separators):}& \\\\\n",
    "        &\\sum_{n=1}^{N} (1 - I_{n}) \\times a_{nm}^{p} = \\sum_{r=1}^{R} b_{mr}^{p}\\ , \\quad \\forall m \\in M, \\forall p \\in \\{1, 2\\} \\\\\n",
    "        &\\sum_{n=1}^{N} I_{n} \\times a_{nm}^{p} = \\sum_{j=1}^{J} \\Delta b_{mj}^{p}\\ , \\quad \\forall m \\in M, \\forall p \\in \\{1, 2\\} \\\\ \\\\\n",
    "    \\text{Calculations (Left Separators $\\rightarrow$ Reactors):}& \\\\\n",
    "        &\\sum_{m=1}^{M} MW_{p=1} \\times (\\frac{b_{mr}^{p=1}}{MW_{p=1}} - \\gamma_{r} \\times \\frac{b_{mr}^{p=1}}{MW_{p=1}} ) = \\sum_{s=1}^{S} d_{rs}^{p=1}\\ , \\quad \\forall r \\in R \\\\\n",
    "        &\\sum_{m=1}^{M} MW_{p=2} \\times (\\frac{b_{mr}^{p=2}}{MW_{p=2}} - \\gamma_{r} \\times \\frac{b_{mr}^{p=1}}{MW_{p=1}} ) = \\sum_{s=1}^{S} d_{rs}^{p=2}\\ , \\quad \\forall r \\in R \\\\\n",
    "        &\\sum_{m=1}^{M} (MW_{p=3} \\times \\gamma_{r} \\times \\frac{b_{mr}^{p=1}}{MW_{p=1}} ) = \\sum_{s=1}^{S} d_{rs}^{p=3}\\ , \\quad \\forall r \\in R \\\\\n",
    "        &\\sum_{m=1}^{M} (MW_{p=4} \\times \\gamma_{r} \\times \\frac{b_{mr}^{p=1}}{MW_{p=1}} ) = \\sum_{s=1}^{S} d_{rs}^{p=4}\\ , \\quad \\forall r \\in R \\\\\n",
    "        &\\sum_{m=1}^{M} (MW_{p=5} \\times \\gamma_{r} \\times \\frac{b_{mr}^{p=1}}{MW_{p=1}} ) = \\sum_{s=1}^{S} d_{rs}^{p=5}\\ , \\quad \\forall r \\in R \\\\ \\\\\n",
    "    \\text{Calculations (Reactors $\\rightarrow$ Right Separators):}& \\\\\n",
    "        &\\sum_{r=1}^{R} I_{s} \\times d_{rs}^{p} = \\sum_{l=1}^{L} \\Delta e_{sl}^{p}\\ , \\quad \\forall s \\in S, \\forall p \\in \\{1, 2, 3, 4\\} \\\\\n",
    "        &\\sum_{r=1}^{R} d_{rs}^{5} = \\sum_{k=1}^{K} e_{sk}^{5}\\ , \\quad \\forall s \\in S \\\\\n",
    "        &\\sum_{r=1}^{R} (1 - I_{s}) \\times d_{rs}^{p} = \\sum_{k=1}^{K} e_{sk}^{p}\\ , \\quad \\forall s \\in S, \\forall p \\in \\{1, 2, 3, 4\\}\n",
    "\\end{align}"
   ]
  },
  {
   "cell_type": "markdown",
   "id": "499cb9aa-1a5c-47b1-b85d-a499af07f910",
   "metadata": {},
   "source": [
    "\\begin{align}\n",
    "    & \\text{Objective Function:}& \\\\\n",
    "    \\max & \\quad R_{k} - (FC_{m} + UC_{m}) - (FC_{r} + UC_{r}) - (FC_{s} + UC_{s}) - UC_{n} - UC_{j} - UC_{l}\n",
    "\\end{align}"
   ]
  },
  {
   "cell_type": "code",
   "execution_count": null,
   "id": "d490767f-a8f9-401a-ac83-3dc78bcb08e4",
   "metadata": {},
   "outputs": [],
   "source": []
  },
  {
   "cell_type": "code",
   "execution_count": null,
   "id": "bfbdc641-8fbd-4f39-9a44-2649a086b74d",
   "metadata": {},
   "outputs": [],
   "source": []
  }
 ],
 "metadata": {
  "kernelspec": {
   "display_name": "Julia 1.9.3",
   "language": "julia",
   "name": "julia-1.9"
  },
  "language_info": {
   "file_extension": ".jl",
   "mimetype": "application/julia",
   "name": "julia",
   "version": "1.9.3"
  }
 },
 "nbformat": 4,
 "nbformat_minor": 5
}
