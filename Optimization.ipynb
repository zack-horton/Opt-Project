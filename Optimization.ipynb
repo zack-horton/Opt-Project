{
 "cells": [
  {
   "cell_type": "code",
   "execution_count": 136,
   "id": "5660adff-82c2-4bc8-b04f-87ba83c13b92",
   "metadata": {},
   "outputs": [],
   "source": [
    "using Pkg, Gurobi, JuMP, CSV, DataFrames, LinearAlgebra, Statistics, Plots"
   ]
  },
  {
   "cell_type": "markdown",
   "id": "2ac42306-9a76-4d2d-bef8-a51b43a77778",
   "metadata": {},
   "source": [
    "## Formulation:\n",
    "\n",
    "![alt text](Network_Diagram.jpg \"Network Diagram\")\n"
   ]
  },
  {
   "cell_type": "code",
   "execution_count": 137,
   "id": "5c50312c-1146-4cfc-806d-21146d081824",
   "metadata": {},
   "outputs": [
    {
     "data": {
      "text/plain": [
       "5×4 Matrix{Float64}:\n",
       " 128.98  0.00012898   449.0  0.45\n",
       "  40.0   4.0e-5       492.0  0.49\n",
       "  58.44  5.844e-5       0.0  0.0\n",
       "  18.0   1.8e-5         0.0  0.0\n",
       "  92.52  9.252e-5    1840.0  1.84"
      ]
     },
     "execution_count": 137,
     "metadata": {},
     "output_type": "execute_result"
    }
   ],
   "source": [
    "chemicals = CSV.read(\"chemicals.csv\", DataFrame)\n",
    "p = size(chemicals)[2]\n",
    "# print(chemicals)\n",
    "p_matrix = Matrix(hcat(Vector(chemicals[2, 2:p]), Vector(chemicals[3, 2:p]), Vector(chemicals[5, 2:p]), Vector(chemicals[4, 2:p]), Vector(chemicals[1, 2:p]))')"
   ]
  },
  {
   "cell_type": "code",
   "execution_count": 138,
   "id": "563fc0fd-ae57-4beb-a08a-3a56857211b2",
   "metadata": {},
   "outputs": [
    {
     "data": {
      "text/plain": [
       "6×3 Matrix{Float64}:\n",
       " 1840.0  5000.0  0.15\n",
       " 2000.0  3000.0  0.12\n",
       " 4000.0  1000.0  0.05\n",
       " 1500.0  8000.0  0.14\n",
       " 1700.0  8000.0  0.17\n",
       " 3000.0  5000.0  0.08"
      ]
     },
     "execution_count": 138,
     "metadata": {},
     "output_type": "execute_result"
    }
   ],
   "source": [
    "customers = CSV.read(\"customers.csv\", DataFrame)\n",
    "k_matrix = Matrix(customers)\n",
    "# k_matrix[:, 1] = 1000*k_matrix[:, 1]\n",
    "# k_matrix"
   ]
  },
  {
   "cell_type": "code",
   "execution_count": 139,
   "id": "5c8d64b9-9e71-4f21-a6ec-e3673f3c9d13",
   "metadata": {},
   "outputs": [
    {
     "data": {
      "text/plain": [
       "5×4 Matrix{Float64}:\n",
       " 500000.0    100.0  10000.0  0.9\n",
       " 800000.0    175.0  10000.0  0.95\n",
       "      1.0e6  200.0  10000.0  0.99\n",
       " 300000.0     80.0  10000.0  0.8\n",
       " 400000.0     85.0  10000.0  0.88"
      ]
     },
     "execution_count": 139,
     "metadata": {},
     "output_type": "execute_result"
    }
   ],
   "source": [
    "reactors = CSV.read(\"reactors.csv\", DataFrame)\n",
    "r_matrix = Matrix(reactors)"
   ]
  },
  {
   "cell_type": "code",
   "execution_count": 140,
   "id": "adf3ad8e-da9e-465f-8ad6-23baebed8864",
   "metadata": {},
   "outputs": [
    {
     "data": {
      "text/plain": [
       "5×4 Matrix{Float64}:\n",
       " 100000.0   50.0  10000.0  0.05\n",
       " 200000.0  100.0  20000.0  0.01\n",
       " 250000.0  120.0  21000.0  0.005\n",
       "  50000.0   35.0  70000.0  0.2\n",
       "  75000.0   45.0  80000.0  0.1"
      ]
     },
     "execution_count": 140,
     "metadata": {},
     "output_type": "execute_result"
    }
   ],
   "source": [
    "separators_1 = CSV.read(\"separators1.csv\", DataFrame)\n",
    "m_matrix = Matrix(separators_1)"
   ]
  },
  {
   "cell_type": "code",
   "execution_count": 141,
   "id": "ca8bb1c2-49ce-46e4-96e1-c493e7523741",
   "metadata": {},
   "outputs": [
    {
     "data": {
      "text/plain": [
       "5×4 Matrix{Float64}:\n",
       " 100000.0  50.0  10000.0  0.9\n",
       " 200000.0  50.0  10000.0  0.95\n",
       " 250000.0  50.0  10000.0  0.99\n",
       "  50000.0  50.0  10000.0  0.85\n",
       "  75000.0  50.0  10000.0  0.88"
      ]
     },
     "execution_count": 141,
     "metadata": {},
     "output_type": "execute_result"
    }
   ],
   "source": [
    "separators_2 = CSV.read(\"separators2.csv\", DataFrame)\n",
    "s_matrix = Matrix(separators_2)"
   ]
  },
  {
   "cell_type": "code",
   "execution_count": 142,
   "id": "7b157ccf-bd8d-4cf6-916a-8923c5900b3a",
   "metadata": {},
   "outputs": [
    {
     "data": {
      "text/plain": [
       "5×3 Matrix{Float64}:\n",
       "  450.0  10000.0  0.05\n",
       "  500.0  10000.0  0.04\n",
       " 1000.0   5000.0  0.005\n",
       "  250.0  10000.0  0.2\n",
       "  750.0   5000.0  0.02"
      ]
     },
     "execution_count": 142,
     "metadata": {},
     "output_type": "execute_result"
    }
   ],
   "source": [
    "suppliers_DCH = CSV.read(\"suppliers_DCH.csv\", DataFrame)\n",
    "n_p1_matrix = Matrix(suppliers_DCH)"
   ]
  },
  {
   "cell_type": "code",
   "execution_count": 143,
   "id": "fed04664-ecc3-4836-9c5b-521585bb2f2a",
   "metadata": {},
   "outputs": [
    {
     "data": {
      "text/plain": [
       "5×3 Matrix{Float64}:\n",
       "  500.0  2500.0  0.05\n",
       "  600.0  2000.0  0.04\n",
       "  400.0  3000.0  0.07\n",
       " 1000.0  2000.0  0.005\n",
       "  800.0  2500.0  0.01"
      ]
     },
     "execution_count": 143,
     "metadata": {},
     "output_type": "execute_result"
    }
   ],
   "source": [
    "suppliers_NAOH = CSV.read(\"suppliers_NAOH.csv\", DataFrame)\n",
    "n_p2_matrix = Matrix(suppliers_NAOH)"
   ]
  },
  {
   "cell_type": "code",
   "execution_count": 144,
   "id": "86812021-23c2-405a-8f34-6f9b9a912e59",
   "metadata": {},
   "outputs": [
    {
     "data": {
      "text/plain": [
       "10×3 Matrix{Float64}:\n",
       "  450.0  10000.0  0.05\n",
       "  500.0  10000.0  0.04\n",
       " 1000.0   5000.0  0.005\n",
       "  250.0  10000.0  0.2\n",
       "  750.0   5000.0  0.02\n",
       "  500.0   2500.0  0.05\n",
       "  600.0   2000.0  0.04\n",
       "  400.0   3000.0  0.07\n",
       " 1000.0   2000.0  0.005\n",
       "  800.0   2500.0  0.01"
      ]
     },
     "execution_count": 144,
     "metadata": {},
     "output_type": "execute_result"
    }
   ],
   "source": [
    "n_matrix = vcat(Matrix(suppliers_DCH), Matrix(suppliers_NAOH))"
   ]
  },
  {
   "cell_type": "code",
   "execution_count": 145,
   "id": "3a8e7a9e-a909-4cf3-b523-a89d7e153787",
   "metadata": {},
   "outputs": [
    {
     "data": {
      "text/plain": [
       "500"
      ]
     },
     "execution_count": 145,
     "metadata": {},
     "output_type": "execute_result"
    }
   ],
   "source": [
    "wastes = CSV.read(\"wastes.csv\", DataFrame)\n",
    "waste_matrix = Matrix(wastes)\n",
    "j = waste_matrix[1, 1]\n",
    "l_aqueous = waste_matrix[1, 2]\n",
    "l_organic = waste_matrix[1, 3]"
   ]
  },
  {
   "cell_type": "markdown",
   "id": "e8af02d7-c9bb-41ae-a4c6-73f32d5385b6",
   "metadata": {},
   "source": [
    "\\begin{align}\n",
    "    \\text{Sets of Values:}& \\\\\n",
    "    \\text{Supplier ($n$)}& \\in [1, N] \\\\\n",
    "    \\text{Material ($p$)}& \\in [1, P] \\\\\n",
    "    \\text{$p=1$ for DCH, $p=2$ for NaOH, $p=3$ for NaCl, $p=4$ for H2O, } & \\text{and $p=5$ ECH} \\\\\n",
    "    \\text{Separator (Left) ($m$)}& \\in [1, M] \\\\\n",
    "    \\text{Waste Water Treatment Plant (for initial separators) ($j$)}& \\in [J] \\\\\n",
    "    \\text{Reactors ($r$)}& \\in [1, R] \\\\\n",
    "    \\text{Separator (Right) ($s$)}& \\in [1, S] \\\\\n",
    "    \\text{Customers ($k$)}& \\in [1, K] \\\\\n",
    "    \\text{Waste Water Treatment Plant (for second separators) ($l$)}& \\in [L] \\\\ \\\\\n",
    "    \\text{Fixed Cost for using separator (left) ($m$)} & = f_{m} \\\\\n",
    "    \\text{Fixed Cost for using reactor ($r$)} & = f_{r} \\\\\n",
    "    \\text{Fixed Cost for using separator (right) ($s$)} & = f_{s} \\\\ \\\\\n",
    "    \\text{Unit Cost for sending material to separator (left) ($m$)} & = c_{m} \\\\\n",
    "    \\text{Unit Cost for sending material to waste water treatment plant ($j$)} & = c_{j} \\\\\n",
    "    \\text{Unit Cost for sending material to reaction ($r$)} & = c_{r} \\\\\n",
    "    \\text{Unit Cost for sending material to separator (right) ($s$)} & = c_{s} \\\\\n",
    "    \\text{Unit Cost for sending material to waste water treatment plant (aqueous) ($l$)} & = c^{A}_{l} \\\\\n",
    "    \\text{Unit Cost for sending material to waste water treatment plant (organic) ($l$)} & = c^{O}_{l} \\\\\n",
    "\\end{align}"
   ]
  },
  {
   "cell_type": "code",
   "execution_count": 146,
   "id": "243c9810-b4f0-4898-8ded-6f5c30c6b127",
   "metadata": {},
   "outputs": [
    {
     "data": {
      "text/plain": [
       "1.0e9"
      ]
     },
     "execution_count": 146,
     "metadata": {},
     "output_type": "execute_result"
    }
   ],
   "source": [
    "## Existing Data\n",
    "# Materials: (1) DHC, (2) NaOH, (3) NaCl, (4) H2O, (5) ECH (material index)\n",
    "\n",
    "# p_matrix: 5x4 matrix \n",
    "    # Rows: DHC, NaOH, NaCl, H2O, ECH (material index)\n",
    "    # Columns: [1] MW (g/mol), [2] MW (MT/mol), [3] Price (USD/MT), [4] Price (USD/kg)\n",
    "# n_p1_matrix: 5x3 matrix (DCH Suppliers)\n",
    "    # Rows: DCH Supplier index\n",
    "    # Columns: [1] Price ($/MT), [2] Supply, [3] Impurity %\n",
    "# n_p2_matrix: 5x3 matrix (NaOH Suppliers)\n",
    "    # Rows: NaOH Supplier index\n",
    "    # Columns: [1] Price ($/MT), [2] Supply, [3] Impurity %\n",
    "# m_matrix: 5x4 matrix [Left Separators]\n",
    "    # Rows: Separator (Left) index\n",
    "    # Columns: [1] Fixed Cost, [2] Flow Cost, [3] Capacity, [4] Impurity %\n",
    "# waste_matrix: 1x3 matrix (all waste water treatment plants)\n",
    "    # j: Int64 (Unit Cost of waste water treatment at left separators)\n",
    "    # l_aqueous: Int64 (Unit Cost of aqueous water water treatment disposal at right separators)\n",
    "    # l_organic: Int64 (Unit Cost of organic waste water treatment disposal at right separators)\n",
    "# r_matrix: 5x4 matrix\n",
    "    # Rows: Reactor index\n",
    "    # Columns: [1] Fixed Cost, [2] Flow Cost, [3] Capacity, [4] Conversion\n",
    "# s_matrix: 5x4 matrix [Right Separators]\n",
    "    # Rows: Separator (Right) index\n",
    "    # Columns: [1] Fixed Cost, [2] Flow Cost, [3] Capacity, [4] Recovery\n",
    "# k_matrix: 6x2 matrix\n",
    "    # Rows: Customer index\n",
    "    # Columns: [1] Price (USD/MT), [2] Demand, [3] Purity\n",
    "\n",
    "## Ranges & Value Vectors\n",
    "material_range = 1:5\n",
    "small_material_range = 1:2\n",
    "\n",
    "chemical_MW = p_matrix[:, 2]\n",
    "\n",
    "full_supplier_range = 1:(size(n_p1_matrix)[1] + size(n_p2_matrix)[1])\n",
    "p1_supplier_range = 1:size(n_p1_matrix)[1]\n",
    "p2_supplier_range = (size(n_p1_matrix)[1] + 1):(size(n_p1_matrix)[1] + size(n_p2_matrix)[1])\n",
    "supplier_unit_price = n_matrix[:, 1]\n",
    "supplier_supply = n_matrix[:, 2]\n",
    "supplier_impurity = n_matrix[:, 3]\n",
    "\n",
    "left_separator_range = 1:size(m_matrix)[1]\n",
    "left_separator_fixed_cost = m_matrix[:, 1]\n",
    "left_separator_unit_cost = m_matrix[:, 2]\n",
    "left_separator_capacity = m_matrix[:, 3]\n",
    "\n",
    "left_waste_range = 1:1\n",
    "left_waste_unit_cost = waste_matrix[:, 1]\n",
    "\n",
    "right_waste_range = 1:1\n",
    "right_waste_aqueous_unit_cost = waste_matrix[:, 2]\n",
    "right_waste_organic_unit_cost = waste_matrix[:, 3]\n",
    "\n",
    "reactor_range = 1:size(r_matrix)[1]\n",
    "reactor_fixed_cost = r_matrix[:, 1]\n",
    "reactor_unit_cost = r_matrix[:, 2]\n",
    "reactor_capacity = r_matrix[:, 3]\n",
    "reactor_conversion_pct = r_matrix[:, 4]\n",
    "\n",
    "right_separator_range = 1:size(s_matrix)[1]\n",
    "right_separator_fixed_cost = s_matrix[:, 1]\n",
    "right_separator_unit_cost = s_matrix[:, 2]\n",
    "right_separator_capacity = s_matrix[:, 3]\n",
    "right_separator_recovery_pct = s_matrix[:, 4]\n",
    "\n",
    "customer_range = 1:size(k_matrix)[1]\n",
    "customer_unit_revenue = k_matrix[:, 1]\n",
    "customer_demand = k_matrix[:, 2]\n",
    "customer_purity_pct = k_matrix[:, 3];\n",
    "\n",
    "big_M = 1e9"
   ]
  },
  {
   "cell_type": "markdown",
   "id": "facb2a79-ec14-436b-9fba-015a7a5a9ec9",
   "metadata": {},
   "source": [
    "\\begin{align}\n",
    "    \\text{Variables and Sign Restrictions:} \\\\\n",
    "    a_{nm}^{p} \\in \\mathbb{R}_{+} =&\\ \\text{amount of material $p$ purchased from supplier $n$ and sent to separator $m$} \\\\\n",
    "    I_{n} =&\\ \\text{\\% impurity in material $p$ purchased from supplier $n$} \\\\ \\\\\n",
    "    b_{mr}^{p} \\in \\mathbb{R}_{+} =&\\ \\text{amount of separated (pure) material $p$ to send from separator $m$ to reactor $r$} \\\\\n",
    "    \\Delta b_{mj}^{p} \\in \\mathbb{R}_{+} =&\\ \\text{amount of separated (impure) material $p$ to send from separator $m$ to waste plant $j$} \\\\ \\\\\n",
    "    d_{rs}^{p} \\in \\mathbb{R}_{+} =&\\ \\text{amount of reacted material $p$ (with impurities) to ship from reactor $r$ to separator $s$} \\\\\n",
    "    \\gamma_{r} =&\\ \\text{\\% yield during reaction from reactor $r$} \\\\ \\\\\n",
    "    e_{sk}^{p} \\in \\mathbb{R}_{+} =&\\ \\text{amount of separated material $p$ (pure) to ship from separator $s$ to customer $k$} \\\\\n",
    "    \\Delta e_{sl}^{A} \\in \\mathbb{R}_{+} =&\\ \\text{amount of separated (impure) aqueous material to ship from separator $s$ to waste plant $l$} \\\\\n",
    "    \\Delta e_{sl}^{O} \\in \\mathbb{R}_{+} =&\\ \\text{amount of separated (impure) organic material to ship from separator $s$ to waste plant $l$} \\\\ \n",
    "    I_{s} =&\\ \\text{\\% recovery of materials from separator $s$} \\\\ \\\\\n",
    "    g_{k} \\in \\mathbb{R}_{+} =&\\ \\text{units of demand from customer k} \\\\ \n",
    "    \\nu_{k} =&\\ \\text{maximum \\% of non-ECH product that customer $k$ willing to except, relative to amount of ECH shipped}\\\\ \\\\\n",
    "    \\rho_{m} \\in \\{0, 1\\} =&\\ \\text{binary indicator if separator (left) $m$ used} \\\\\n",
    "    \\sigma_{r} \\in \\{0, 1\\} =&\\ \\text{binary indicator if reactor $r$ used} \\\\\n",
    "    \\mu_{s} \\in \\{0, 1\\} =&\\ \\text{binary indicator if separator (right) $s$ used} \\\\\n",
    "\\end{align}"
   ]
  },
  {
   "cell_type": "code",
   "execution_count": 147,
   "id": "749a2012-20f0-4e46-8935-f4c2c97ac935",
   "metadata": {},
   "outputs": [
    {
     "name": "stdout",
     "output_type": "stream",
     "text": [
      "Set parameter Username\n",
      "Academic license - for non-commercial use only - expires 2024-08-18\n"
     ]
    }
   ],
   "source": [
    "model = Model(Gurobi.Optimizer)\n",
    "\n",
    "## CREATE VARIABLES\n",
    "@variable(model,\n",
    "    a[n in full_supplier_range, m in left_separator_range, p in small_material_range] >= 0)\n",
    "\n",
    "@variable(model,\n",
    "    b[m in left_separator_range, r in reactor_range, p in small_material_range] >= 0)\n",
    "@variable(model,\n",
    "    delta_b[m in left_separator_range, j in left_waste_range, p in small_material_range] >= 0)\n",
    "\n",
    "@variable(model,\n",
    "    d[r in reactor_range, s in right_separator_range, p in material_range] >= 0)\n",
    "\n",
    "@variable(model,\n",
    "    e[s in right_separator_range, k in customer_range, p in material_range] >= 0)\n",
    "@variable(model,\n",
    "    delta_e[s in right_separator_range, l in right_waste_range, p in material_range] >= 0)\n",
    "\n",
    "@variable(model,\n",
    "    rho[m in left_separator_range], Bin)\n",
    "@variable(model,\n",
    "    sigma[r in reactor_range], Bin)\n",
    "@variable(model,\n",
    "    mu[s in right_separator_range], Bin)\n",
    "\n",
    "@variable(model,\n",
    "    FC_m >= 0)\n",
    "@variable(model,\n",
    "    FC_r >= 0)\n",
    "@variable(model,\n",
    "    FC_s >= 0)\n",
    "\n",
    "@variable(model,\n",
    "    UC_n >= 0)\n",
    "@variable(model,\n",
    "    UC_m >= 0)\n",
    "@variable(model,\n",
    "    UC_r >= 0)\n",
    "@variable(model,\n",
    "    UC_s >= 0)\n",
    "@variable(model,\n",
    "    UC_j >= 0)\n",
    "@variable(model,\n",
    "    UC_l >= 0)\n",
    "\n",
    "@variable(model,\n",
    "    R_k >= 0)\n",
    "\n",
    "## ONLY CERTAIN SUPPLIERS CAN PROVIDE CERTAIN PRODUCTS\n",
    "@constraint(model,\n",
    "    DCH_to_L_separator_flow[n in p1_supplier_range, m in left_separator_range],\n",
    "    a[n, m, 2] == 0)  #a[1:5, 1:M, 2]\n",
    "@constraint(model,\n",
    "    NaOH_to_L_separator_flow[n in p2_supplier_range, m in left_separator_range],\n",
    "    a[n, m, 1] == 0)  #a[6:10, 1:M, 1] \n",
    "# @constraint(model,\n",
    "#     Other_to_L_separator_flow[n in full_supplier_range, m in left_separator_range, p in [3, 4, 5]],\n",
    "#     a[n, m, p] == 0)  #a[1:10, 1:M, 3:5]\n",
    "\n",
    "## ONLY CERTAIN PRODUCTS CAN BE SEPARATED\n",
    "# @constraint(model,\n",
    "#     L_separator_to_reactor_flow[m in left_separator_range, r in reactor_range, p in [3, 4, 5]],\n",
    "#     b[m, r, p] == 0)\n",
    "# @constraint(model,\n",
    "#     L_separator_to_waste_flow[m in left_separator_range, r in reactor_range, p in [3, 4, 5]],\n",
    "#     b[m, r, p] == 0);\n",
    "\n",
    "## WHAT GOES INTO L SEPARATORS MUST COME OUT\n",
    "@constraint(model,\n",
    "    in_and_out_L_separator_flow[m in left_separator_range, p in small_material_range],\n",
    "    sum( (a[n, m, p]) for n in full_supplier_range) == \n",
    "    sum( (delta_b[m, j, p]) for j in left_waste_range) + \n",
    "    sum( (b[m, r, p]) for r in reactor_range));\n",
    "\n",
    "## WHAT GOES INTO REACTORS MUST COME OUT\n",
    "@constraint(model,\n",
    "    in_and_out_reactor_flow[r in reactor_range],\n",
    "    sum( sum( (b[m, r, p]) for p in small_material_range) for m in left_separator_range) == \n",
    "    sum( sum( (d[r, s, p]) for p in material_range) for s in right_separator_range));\n",
    "\n",
    "## WHAT GOES INTO R SEPARATORS MUST COME OUT\n",
    "@constraint(model,\n",
    "    in_and_out_R_separator_flow[s in right_separator_range, p in material_range],\n",
    "    sum( (d[r, s, p]) for r in reactor_range) == \n",
    "    sum( (delta_e[s, l, p]) for l in right_waste_range) + \n",
    "    sum( (e[s, k, p]) for k in customer_range));\n",
    "\n",
    "## ENFORCE FIXED-COST OF L SEPARATORS\n",
    "@constraint(model,\n",
    "    Fixed_Cost_L_Separators_1[n in full_supplier_range, m in left_separator_range, p in small_material_range],\n",
    "    a[n, m, p] <= big_M * rho[m])\n",
    "@constraint(model,\n",
    "    Fixed_Cost_L_Separators_2[m in left_separator_range, r in reactor_range, p in small_material_range],\n",
    "    b[m, r, p] <= big_M * rho[m])\n",
    "@constraint(model,\n",
    "    Fixed_Cost_L_Separators_3[m in left_separator_range, j in left_waste_range, p in small_material_range],\n",
    "    delta_b[m, j, p] <= big_M * rho[m]);\n",
    "@constraint(model,\n",
    "    FC_m == sum( (left_separator_fixed_cost[m] * rho[m]) for m in left_separator_range));\n",
    "\n",
    "## ENFORCE FIXED-COST OF REACTORS\n",
    "@constraint(model,\n",
    "    Fixed_Cost_Reactors_1[m in left_separator_range, r in reactor_range, p in small_material_range],\n",
    "    b[m, r, p] <= big_M * sigma[r])\n",
    "@constraint(model,\n",
    "    Fixed_Cost_Reactors_2[r in reactor_range, s in right_separator_range, p in material_range],\n",
    "    d[r, s, p] <= big_M * sigma[r])\n",
    "@constraint(model,\n",
    "    FC_r == sum( (reactor_fixed_cost[r] * sigma[r]) for r in reactor_range));\n",
    "\n",
    "## ENFORCE FIXED-COST OF R SEPARATORS\n",
    "@constraint(model,\n",
    "    Fixed_Cost_R_Separators_1[r in reactor_range, s in right_separator_range, p in material_range],\n",
    "    d[r, s, p] <= big_M * mu[s])\n",
    "@constraint(model,\n",
    "    Fixed_Cost_R_Separators_2[s in right_separator_range, k in customer_range, p in material_range],\n",
    "    e[s, k, p] <= big_M * mu[s])\n",
    "@constraint(model,\n",
    "    Fixed_Cost_R_Separators_3[s in right_separator_range, l in right_waste_range, p in material_range],\n",
    "    delta_e[s, l, p] <= big_M * mu[s]);\n",
    "@constraint(model,\n",
    "    FC_s == sum( (right_separator_fixed_cost[s] * mu[s]) for s in right_separator_range))\n",
    "\n",
    "## CUSTOMER DEMAND REQUIREMENTS\n",
    "@constraint(model,\n",
    "    Customer_Demand[k in customer_range],\n",
    "    sum( (e[s, k, 5]) for s in right_separator_range) <=\n",
    "    customer_demand[k]);\n",
    "@constraint(model,\n",
    "    Customer_Product_Purity[k in customer_range],\n",
    "    sum( (e[s, k, 1] + e[s, k, 2] + e[s, k, 3] + e[s, k, 4]) for s in right_separator_range)\n",
    "    <= customer_purity_pct[k] * sum( (e[s, k, 5]) for s in right_separator_range))\n",
    "\n",
    "\n",
    "## CALCULATE UNIT COSTS\n",
    "@constraint(model,\n",
    "    UC_n == sum( \n",
    "                sum( \n",
    "                    sum( \n",
    "                        (supplier_unit_price[n] * a[n, m, p]) \n",
    "                    for p in small_material_range) \n",
    "                for m in left_separator_range) \n",
    "            for n in full_supplier_range))\n",
    "@constraint(model,\n",
    "    UC_m == sum( \n",
    "                sum( \n",
    "                    sum( \n",
    "                        (left_separator_unit_cost[m] * a[n, m, p]) \n",
    "                    for p in small_material_range) \n",
    "                for m in left_separator_range) \n",
    "            for n in full_supplier_range))\n",
    "@constraint(model,\n",
    "    UC_j == sum( \n",
    "                sum( \n",
    "                    sum( \n",
    "                        (left_waste_unit_cost[j] * delta_b[m, j, p]) \n",
    "                    for p in small_material_range) \n",
    "                for j in left_waste_range) \n",
    "            for m in left_separator_range))\n",
    "@constraint(model,\n",
    "    UC_r == sum( \n",
    "                sum( \n",
    "                    sum( \n",
    "                        (reactor_unit_cost[r] * b[m, r, p]) \n",
    "                    for p in small_material_range) \n",
    "                for r in reactor_range) \n",
    "            for m in left_separator_range))\n",
    "@constraint(model,\n",
    "    UC_s == sum( \n",
    "                sum( \n",
    "                    sum( \n",
    "                        (right_separator_unit_cost[s] * d[r, s, p]) \n",
    "                    for p in material_range) \n",
    "                for s in right_separator_range) \n",
    "            for r in reactor_range));\n",
    "@constraint(model,\n",
    "    UC_l == sum( \n",
    "                sum( \n",
    "                    sum( \n",
    "                        (right_waste_aqueous_unit_cost[l] * delta_e[s, l, p]) \n",
    "                    for p in 2:4) \n",
    "                for l in right_waste_range) \n",
    "            for s in right_separator_range) + \n",
    "            sum( \n",
    "                sum( \n",
    "                    (right_waste_organic_unit_cost[l] * delta_e[s, l, 1]) \n",
    "                for l in right_waste_range) \n",
    "            for s in right_separator_range))\n",
    "\n",
    "## SUPPLIERS HAVE LIMITED CAPACITY\n",
    "@constraint(model,\n",
    "    Limit_DCH_supplier_volume[n in p1_supplier_range],\n",
    "    sum( (a[n, m, 1]) for m in left_separator_range) \n",
    "    <= supplier_supply[n])\n",
    "@constraint(model,\n",
    "    Limit_NaOH_supplier_volume[n in p2_supplier_range],\n",
    "    sum( (a[n, m, 2]) for m in left_separator_range) \n",
    "    <= supplier_supply[n])\n",
    "\n",
    "## L SEPARATORS HAVE LIMITED CAPACITY\n",
    "@constraint(model,\n",
    "    L_separator_capacity_in[m in left_separator_range],\n",
    "    sum( sum( (a[n, m, p]) for p in small_material_range) for n in full_supplier_range) \n",
    "    <= left_separator_capacity[m])\n",
    "@constraint(model,\n",
    "    L_separator_capacity_out[m in left_separator_range],\n",
    "    sum( sum( (b[m, r, p]) for p in small_material_range) for r in reactor_range) + \n",
    "    sum( sum( (delta_b[m, j, p]) for p in small_material_range) for j in left_waste_range) \n",
    "    <= left_separator_capacity[m])\n",
    "\n",
    "## REACTORS HAVE LIMITED CAPACITY\n",
    "@constraint(model,\n",
    "    reactor_capacity_in[r in reactor_range],\n",
    "    sum( sum( (b[m, r, p]) for p in small_material_range) for m in left_separator_range)\n",
    "    <= reactor_capacity[r])\n",
    "\n",
    "## R SEPARATORS HAVE LIMITED CAPACITY\n",
    "@constraint(model,\n",
    "    R_separator_capacity_in[s in right_separator_range],\n",
    "    sum( sum( (d[r, s, p]) for p in material_range) for r in reactor_range) \n",
    "    <= right_separator_capacity[s])\n",
    "@constraint(model,\n",
    "    R_separator_capacity_out[s in right_separator_range],\n",
    "    sum( sum( (e[s, k, p]) for p in material_range) for k in customer_range) + \n",
    "    sum( sum( (delta_e[s, l, p]) for p in material_range) for l in right_waste_range) \n",
    "    <= right_separator_capacity[s]);\n",
    "\n",
    "## CALCULATIONS (SUPPLIERS -> L SEPARATORS)\n",
    "@constraint(model,\n",
    "    DCH_supplier_impurity_calc_1[m in left_separator_range],\n",
    "    sum( ( (1 - supplier_impurity[n]) * (a[n, m, 1]) ) for n in p1_supplier_range) == \n",
    "    sum( (b[m, r, 1]) for r in reactor_range))\n",
    "@constraint(model,\n",
    "    NaOH_supplier_impurity_calc_1[m in left_separator_range],\n",
    "    sum( ( (1 - supplier_impurity[n]) * (a[n, m, 2]) ) for n in p2_supplier_range) == \n",
    "    sum( (b[m, r, 2]) for r in reactor_range))\n",
    "@constraint(model,\n",
    "    DCH_supplier_impurity_calc_2[m in left_separator_range],\n",
    "    sum( (supplier_impurity[n] * a[n, m, 1]) for n in p1_supplier_range) == \n",
    "    sum( (delta_b[m, j, 1]) for j in left_waste_range))\n",
    "@constraint(model,\n",
    "    NaOH_supplier_impurity_calc_2[m in left_separator_range],\n",
    "    sum( (supplier_impurity[n] * a[n, m, 2]) for n in p2_supplier_range) == \n",
    "    sum( (delta_b[m, j, 2]) for j in left_waste_range))\n",
    "\n",
    "## CALCULATIONS (L SEPARATORS -> REACTORS)\n",
    "@constraint(model,\n",
    "    DCH_reaction[r in reactor_range],\n",
    "    sum( (d[r, s, 1]) for s in right_separator_range) == \n",
    "    sum( \n",
    "        ( chemical_MW[1] * ( (b[m, r, 1]/chemical_MW[1]) - ((reactor_conversion_pct[r]) * (b[m, r, 1]/chemical_MW[1])) ) ) \n",
    "    for m in left_separator_range))\n",
    "@constraint(model,\n",
    "    NaOH_reaction[r in reactor_range],\n",
    "    sum( (d[r, s, 2]) for s in right_separator_range) == \n",
    "    sum( \n",
    "        ( chemical_MW[2] * ( (b[m, r, 2]/chemical_MW[2]) - ((reactor_conversion_pct[r]) * (b[m, r, 1]/chemical_MW[1])) ) ) \n",
    "    for m in left_separator_range))\n",
    "@constraint(model,\n",
    "    NaCl_reaction[r in reactor_range],\n",
    "    sum( (d[r, s, 3]) for s in right_separator_range) == \n",
    "    sum( \n",
    "        ( chemical_MW[3] * reactor_conversion_pct[r] * (b[m, r, 1]/chemical_MW[1]) ) \n",
    "    for m in left_separator_range))\n",
    "@constraint(model,\n",
    "    H2O_reaction[r in reactor_range],\n",
    "    sum( (d[r, s, 4]) for s in right_separator_range) == \n",
    "    sum( \n",
    "        ( chemical_MW[4] * reactor_conversion_pct[r] * (b[m, r, 1]/chemical_MW[1]) ) \n",
    "    for m in left_separator_range))\n",
    "@constraint(model,\n",
    "    ECH_reaction[r in reactor_range],\n",
    "    sum( (d[r, s, 5]) for s in right_separator_range) == \n",
    "    sum( \n",
    "        ( chemical_MW[5] * reactor_conversion_pct[r] * (b[m, r, 1]/chemical_MW[1]) ) \n",
    "    for m in left_separator_range));\n",
    "\n",
    "## CALCULATIONS (REACTORS -> R SEPARATORS)\n",
    "@constraint(model,\n",
    "    material_R_separation_to_waste[s in right_separator_range, p in 1:4],\n",
    "    sum( (right_separator_recovery_pct[s] * d[r, s, p]) for r in reactor_range) == \n",
    "    sum( (delta_e[s, l, p]) for l in right_waste_range)) \n",
    "@constraint(model,\n",
    "    ECH_r_separation[s in right_separator_range],\n",
    "    sum( (d[r, s, 5]) for r in reactor_range) ==\n",
    "    sum( (e[s, k, 5]) for k in customer_range))\n",
    "@constraint(model,\n",
    "    material_R_separation_to_customers[s in right_separator_range, p in 1:4],\n",
    "    sum( ( (1 - right_separator_recovery_pct[s]) * (d[r, s, p]) ) for r in reactor_range) == \n",
    "    sum( (e[s, k, p]) for k in customer_range));\n",
    "\n",
    "## REVENUE FROM CUSTOMER SALES\n",
    "@constraint(model,\n",
    "    R_k == sum( \n",
    "                sum( \n",
    "                    (customer_unit_revenue[k] * e[s, k, 5]) \n",
    "                for k in customer_range) \n",
    "            for s in right_separator_range))\n",
    "\n",
    "## JUST BE BE SURE (LOL)\n",
    "@constraint(model,\n",
    "    right_waste_sanity_check[s in right_separator_range, l in right_waste_range],\n",
    "    delta_e[s, l, 5] == 0)\n",
    "\n",
    "# print(model)  #use to spot check\n",
    "\n",
    "## OBJECTIVE FUNCTION (MAX NET PROFIT)\n",
    "@objective(model,\n",
    "    Max,\n",
    "    R_k);"
   ]
  },
  {
   "cell_type": "code",
   "execution_count": 148,
   "id": "2d46f69c-e65d-4cf8-b025-02cd210cd3b4",
   "metadata": {},
   "outputs": [
    {
     "name": "stdout",
     "output_type": "stream",
     "text": [
      "Gurobi Optimizer version 10.0.2 build v10.0.2rc0 (mac64[arm])\n",
      "\n",
      "CPU model: Apple M2 Pro\n",
      "Thread count: 12 physical cores, 12 logical processors, using up to 12 threads\n",
      "\n",
      "Optimize a model with 872 rows, 485 columns and 3815 nonzeros\n",
      "Model fingerprint: 0x6d7bfb47\n",
      "Variable types: 470 continuous, 15 integer (15 binary)\n",
      "Coefficient statistics:\n",
      "  Matrix range     [5e-03, 1e+09]\n",
      "  Objective range  [1e+00, 1e+00]\n",
      "  Bounds range     [0e+00, 0e+00]\n",
      "  RHS range        [1e+03, 8e+04]\n",
      "Warning: Model contains large matrix coefficients\n",
      "         Consider reformulating model or setting NumericFocus parameter\n",
      "         to avoid numerical issues.\n",
      "Found heuristic solution: objective -0.0000000\n",
      "Presolve removed 719 rows and 104 columns\n",
      "Presolve time: 0.00s\n",
      "Presolved: 153 rows, 381 columns, 1683 nonzeros\n",
      "Variable types: 381 continuous, 0 integer (0 binary)\n",
      "\n",
      "Root relaxation: objective 5.095575e+07, 94 iterations, 0.00 seconds (0.00 work units)\n",
      "\n",
      "    Nodes    |    Current Node    |     Objective Bounds      |     Work\n",
      " Expl Unexpl |  Obj  Depth IntInf | Incumbent    BestBd   Gap | It/Node Time\n",
      "\n",
      "*    0     0               0    5.095575e+07 5.0956e+07 -0.00%     -    0s\n",
      "\n",
      "Explored 1 nodes (94 simplex iterations) in 0.00 seconds (0.00 work units)\n",
      "Thread count was 12 (of 12 available processors)\n",
      "\n",
      "Solution count 1: 5.09557e+07 \n",
      "\n",
      "Optimal solution found (tolerance 1.00e-04)\n",
      "Best objective 5.095574948684e+07, best bound 5.095574948684e+07, gap 0.0000%\n",
      "\n",
      "User-callback calls 437, time in user-callback 0.00 sec\n"
     ]
    }
   ],
   "source": [
    "optimize!(model)"
   ]
  },
  {
   "cell_type": "code",
   "execution_count": 149,
   "id": "8a943074-b9e3-4233-baf3-2b22f67e7cd3",
   "metadata": {},
   "outputs": [
    {
     "data": {
      "text/plain": [
       "3-dimensional DenseAxisArray{Float64,3,...} with index sets:\n",
       "    Dimension 1, 1:10\n",
       "    Dimension 2, 1:5\n",
       "    Dimension 3, 1:2\n",
       "And data, a 10×5×2 Array{Float64, 3}:\n",
       "[:, :, 1] =\n",
       "    0.0   0.0  0.0  5000.0  5000.0\n",
       "    0.0   0.0  0.0  5000.0  5000.0\n",
       " 5000.0   0.0  0.0     0.0     0.0\n",
       "    0.0   0.0  0.0  5000.0  5000.0\n",
       " 2939.81  0.0  0.0  1030.1  1030.1\n",
       "    0.0   0.0  0.0     0.0     0.0\n",
       "    0.0   0.0  0.0     0.0     0.0\n",
       "    0.0   0.0  0.0     0.0     0.0\n",
       "    0.0   0.0  0.0     0.0     0.0\n",
       "    0.0   0.0  0.0     0.0     0.0\n",
       "\n",
       "[:, :, 2] =\n",
       " 0.0  0.0     0.0     0.0       0.0\n",
       " 0.0  0.0     0.0     0.0       0.0\n",
       " 0.0  0.0     0.0     0.0       0.0\n",
       " 0.0  0.0     0.0     0.0       0.0\n",
       " 0.0  0.0     0.0     0.0       0.0\n",
       " 0.0  0.0     0.0   655.803   655.803\n",
       " 0.0  0.0     0.0  1000.0    1000.0\n",
       " 0.0  0.0  3000.0     0.0       0.0\n",
       " 0.0  0.0     0.0  1000.0    1000.0\n",
       " 0.0  0.0     0.0  1250.0    1250.0"
      ]
     },
     "execution_count": 149,
     "metadata": {},
     "output_type": "execute_result"
    }
   ],
   "source": [
    "value.(a)  #supplier x left separator"
   ]
  },
  {
   "cell_type": "code",
   "execution_count": 151,
   "id": "fd1a3e0c-ea5e-431e-960d-c540119850e6",
   "metadata": {},
   "outputs": [
    {
     "data": {
      "text/plain": [
       "3-dimensional DenseAxisArray{Float64,3,...} with index sets:\n",
       "    Dimension 1, 1:5\n",
       "    Dimension 2, 1:1\n",
       "    Dimension 3, 1:2\n",
       "And data, a 5×1×2 Array{Float64, 3}:\n",
       "[:, :, 1] =\n",
       "   83.79615703023808\n",
       "    0.0\n",
       "    0.0\n",
       " 1470.601921484881\n",
       " 1470.601921484881\n",
       "\n",
       "[:, :, 2] =\n",
       "   0.0\n",
       "   0.0\n",
       " 210.00000000000003\n",
       "  90.290156224881\n",
       "  90.290156224881"
      ]
     },
     "execution_count": 151,
     "metadata": {},
     "output_type": "execute_result"
    }
   ],
   "source": [
    "value.(delta_b)  #left separator x waste plant"
   ]
  },
  {
   "cell_type": "code",
   "execution_count": 162,
   "id": "edb4b591-e614-449e-8d6d-c3179f7ae932",
   "metadata": {},
   "outputs": [
    {
     "data": {
      "text/plain": [
       "47396.02593654547"
      ]
     },
     "execution_count": 162,
     "metadata": {},
     "output_type": "execute_result"
    }
   ],
   "source": [
    "value.(b)  #left separator x reactor"
   ]
  },
  {
   "cell_type": "code",
   "execution_count": 163,
   "id": "dce6cbde-99e1-4f59-8b81-7c4b6039b35b",
   "metadata": {},
   "outputs": [
    {
     "data": {
      "text/plain": [
       "47390.8154235772"
      ]
     },
     "execution_count": 163,
     "metadata": {},
     "output_type": "execute_result"
    }
   ],
   "source": [
    "value.(d)  #reactor x right separator"
   ]
  },
  {
   "cell_type": "code",
   "execution_count": 153,
   "id": "625019f7-cb0a-4148-90cd-ae6746817579",
   "metadata": {},
   "outputs": [
    {
     "data": {
      "text/plain": [
       "3-dimensional DenseAxisArray{Float64,3,...} with index sets:\n",
       "    Dimension 1, 1:5\n",
       "    Dimension 2, 1:6\n",
       "    Dimension 3, 1:5\n",
       "And data, a 5×6×5 Array{Float64, 3}:\n",
       "[:, :, 1] =\n",
       "   0.0      0.0  0.0  0.0  0.0  7.65097\n",
       "  47.1361   0.0  0.0  0.0  0.0  0.0\n",
       "   7.81792  0.0  0.0  0.0  0.0  0.0\n",
       "   0.0      0.0  0.0  0.0  0.0  0.0\n",
       " 188.565    0.0  0.0  0.0  0.0  0.0\n",
       "\n",
       "[:, :, 2] =\n",
       " 0.0  0.0  0.0  0.0  0.0  0.0\n",
       " 0.0  0.0  0.0  0.0  0.0  0.0\n",
       " 0.0  0.0  0.0  0.0  0.0  0.0\n",
       " 0.0  0.0  0.0  0.0  0.0  0.0\n",
       " 0.0  0.0  0.0  0.0  0.0  0.0\n",
       "\n",
       "[:, :, 3] =\n",
       "   0.0      0.0     0.0  0.0  629.109  0.0\n",
       "   0.0      0.0     0.0  0.0    0.0    0.0\n",
       "  21.1438   0.0     0.0  0.0    0.0    0.0\n",
       " 100.733   46.7603  0.0  0.0  553.259  0.0\n",
       " 257.756    0.0     0.0  0.0    0.0    0.0\n",
       "\n",
       "[:, :, 4] =\n",
       "   0.0    313.24  50.0  0.0  0.0  0.0\n",
       "   0.0      0.0    0.0  0.0  0.0  0.0\n",
       "   0.0      0.0    0.0  0.0  0.0  0.0\n",
       "   0.0      0.0    0.0  0.0  0.0  0.0\n",
       " 126.848    0.0    0.0  0.0  0.0  0.0\n",
       "\n",
       "[:, :, 5] =\n",
       "    0.0     0.0     0.0     0.0      0.0     0.0\n",
       "    0.0     0.0     0.0     0.0   8000.0  1057.28\n",
       " 5000.0     0.0     0.0  2103.83     0.0     0.0\n",
       "    0.0  3000.0     0.0     0.0      0.0     0.0\n",
       "    0.0     0.0  1000.0     0.0      0.0  3942.72"
      ]
     },
     "execution_count": 153,
     "metadata": {},
     "output_type": "execute_result"
    }
   ],
   "source": [
    "value.(e)  #right separator x customers"
   ]
  },
  {
   "cell_type": "code",
   "execution_count": 154,
   "id": "9336f718-5f66-4c33-bc7f-c5d8a56e327a",
   "metadata": {},
   "outputs": [
    {
     "data": {
      "text/plain": [
       "3-dimensional DenseAxisArray{Float64,3,...} with index sets:\n",
       "    Dimension 1, 1:5\n",
       "    Dimension 2, 1:1\n",
       "    Dimension 3, 1:5\n",
       "And data, a 5×1×5 Array{Float64, 3}:\n",
       "[:, :, 1] =\n",
       "   68.85870209989332\n",
       "  895.5853331709096\n",
       "  773.9738150078792\n",
       "    0.0\n",
       " 1382.8135753874142\n",
       "\n",
       "[:, :, 2] =\n",
       " 0.0\n",
       " 0.0\n",
       " 0.0\n",
       " 0.0\n",
       " 0.0\n",
       "\n",
       "[:, :, 3] =\n",
       " 5661.984199103995\n",
       "    0.0\n",
       " 2093.2315236747345\n",
       " 3970.9344208987586\n",
       " 1890.2070072998458\n",
       "\n",
       "[:, :, 4] =\n",
       " 3269.157098796113\n",
       "    0.0\n",
       "    0.0\n",
       "    0.0\n",
       "  930.2171076046978\n",
       "\n",
       "[:, :, 5] =\n",
       " 0.0\n",
       " 0.0\n",
       " 0.0\n",
       " 0.0\n",
       " 0.0"
      ]
     },
     "execution_count": 154,
     "metadata": {},
     "output_type": "execute_result"
    }
   ],
   "source": [
    "value.(delta_e)  #right separator x right waste plant"
   ]
  },
  {
   "cell_type": "code",
   "execution_count": 155,
   "id": "d289c522-c3aa-42a6-95ba-91a2242c7ae1",
   "metadata": {},
   "outputs": [
    {
     "data": {
      "text/plain": [
       "2.780580312449762e7"
      ]
     },
     "execution_count": 155,
     "metadata": {},
     "output_type": "execute_result"
    }
   ],
   "source": [
    "value.(UC_n)  #unit cost of purchasing"
   ]
  },
  {
   "cell_type": "code",
   "execution_count": 156,
   "id": "87918759-14c1-4896-aefa-f89dd4707c6e",
   "metadata": {},
   "outputs": [
    {
     "data": {
      "text/plain": [
       "(2.3518623284749286e6, 675000.0)"
      ]
     },
     "execution_count": 156,
     "metadata": {},
     "output_type": "execute_result"
    }
   ],
   "source": [
    "value.(UC_m), value.(FC_m)  #unit cost of left separators, fixed cost of using left separators"
   ]
  },
  {
   "cell_type": "code",
   "execution_count": 157,
   "id": "a4c8408c-c33e-408d-bdb8-45a1f034dd91",
   "metadata": {},
   "outputs": [
    {
     "data": {
      "text/plain": [
       "(6.191682074923639e6, 3.0e6)"
      ]
     },
     "execution_count": 157,
     "metadata": {},
     "output_type": "execute_result"
    }
   ],
   "source": [
    "value.(UC_r), value.(FC_r)  #unit cost of reactors, fixed cost of using reactors"
   ]
  },
  {
   "cell_type": "code",
   "execution_count": 158,
   "id": "5c415a46-9a73-4eb0-9345-b29a8c2136af",
   "metadata": {},
   "outputs": [
    {
     "data": {
      "text/plain": [
       "(2.3695407711788598e6, 675000.0)"
      ]
     },
     "execution_count": 158,
     "metadata": {},
     "output_type": "execute_result"
    }
   ],
   "source": [
    "value.(UC_s), value.(FC_s)  #unit cost of right separators, fixed cost of using right separators"
   ]
  },
  {
   "cell_type": "code",
   "execution_count": 159,
   "id": "94883c78-84b9-4773-85e8-cfe683980039",
   "metadata": {},
   "outputs": [
    {
     "data": {
      "text/plain": [
       "341558.0312449762"
      ]
     },
     "execution_count": 159,
     "metadata": {},
     "output_type": "execute_result"
    }
   ],
   "source": [
    "value.(UC_j)  #unit cost of left waste plant disposal"
   ]
  },
  {
   "cell_type": "code",
   "execution_count": 160,
   "id": "1238054f-6a13-49f0-8610-20481e54ae7f",
   "metadata": {},
   "outputs": [
    {
     "data": {
      "text/plain": [
       "3.342188848570863e6"
      ]
     },
     "execution_count": 160,
     "metadata": {},
     "output_type": "execute_result"
    }
   ],
   "source": [
    "value.(UC_l)  #unit cost of right waste plant disposal"
   ]
  },
  {
   "cell_type": "code",
   "execution_count": 161,
   "id": "69cd4830-fddd-49d2-a315-68e90125c04b",
   "metadata": {},
   "outputs": [
    {
     "data": {
      "text/plain": [
       "5.0955749486844525e7"
      ]
     },
     "execution_count": 161,
     "metadata": {},
     "output_type": "execute_result"
    }
   ],
   "source": [
    "value.(R_k)  #revenue of selling to customers"
   ]
  },
  {
   "cell_type": "markdown",
   "id": "6567a0f2-af78-4a19-8810-ff0aee98e15c",
   "metadata": {},
   "source": [
    "\\begin{align}\n",
    "    \\text{Flow Constraints (MT units):}& \\\\\n",
    "        &\\sum_{n=1}^{N} a_{nm}^{p} = \\sum_{j=1}^{J} \\Delta b_{mj}^{p} + \\sum_{r=1}^{R} b^{p}_{mr}\\ , \\quad \\forall p \\in \\{1, 2\\}, \\forall m \\in M, \\forall j \\in J \\\\\n",
    "        &\\sum_{m=1}^{M} \\sum_{p=1}^{P} b_{mr}^{p} = \\sum_{s=1}^{S}d_{rs}^{p}\\ , \\quad \\forall r \\in R, \\forall p \\in \\{1, 2\\} \\\\\n",
    "        &\\sum_{r=1}^{R} d_{rs}^{p} = \\sum_{l=1}^{L} \\Delta e_{sl}^{p} + \\sum_{k=1}^{K} e_{sk}^{p}\\ , \\quad \\forall s \\in S, \\forall p \\in P \\\\\n",
    "        &a_{nm}^{p} = b_{mr}^{p} = \\Delta b_{mj}^{p} = 0\\ , \\quad \\forall p \\in \\{3, 4, 5\\}, \\forall n \\in N, \\forall m \\in M \\\\ \\\\ \n",
    "    \\text{Fixed Cost for Left Separators:}& \\\\\n",
    "        &a_{nm}^{p} \\leq \\mathbf{M} \\times \\rho_{m}\\ , \\quad \\forall n \\in N, \\forall p \\in P, \\forall m \\in M \\\\\n",
    "        &b_{mr}^{p} \\leq \\mathbf{M} \\times \\rho_{m}\\ , \\quad \\forall p \\in P, \\forall m \\in M, \\forall r \\in R \\\\\n",
    "        &\\Delta b_{mj}^{p} \\leq \\mathbf{M} \\times \\rho_{m}\\ , \\quad \\forall p \\in P, \\forall m \\in M, \\forall j \\in J \\\\\n",
    "        &FC_{m} = \\sum_{m=1}^{M} f_{m} \\times \\rho_{m} \\\\\n",
    "    \\text{Fixed Cost for Reactors:}& \\\\\n",
    "        &b_{mr}^{p} \\leq \\mathbf{M} \\times \\sigma_{r}\\ , \\quad \\forall p \\in P, \\forall m \\in M, \\forall r \\in R \\\\\n",
    "        &d_{rs}^{p} \\leq \\mathbf{M} \\times \\sigma_{r}\\ , \\quad \\forall r \\in R, \\forall p \\in P, \\forall s \\in S \\\\\n",
    "        &FC_{r} = \\sum_{r=1}^{R} f_{r} \\times \\sigma_{r} \\\\ \\\\\n",
    "    \\text{Fixed Cost for Right Separators:}& \\\\\n",
    "        &d_{rs}^{p} \\leq \\mathbf{M} \\times \\mu_{s}\\ , \\quad \\forall r \\in R, \\forall p \\in P, \\forall s \\in S \\\\\n",
    "        &e_{sk}^{p} \\leq \\mathbf{M} \\times \\mu_{s}\\ , \\quad \\forall s \\in S, \\forall p \\in P, \\forall k \\in K \\\\\n",
    "        &\\Delta e_{sl}^{p} \\leq \\mathbf{M} \\times \\mu_{s}\\ , \\quad \\forall s \\in S, \\forall p \\in P, \\forall l \\in L \\\\\n",
    "        &FC_{s} = \\sum_{s=1}^{S} f_{r} \\times \\mu_{s} \\\\ \\\\\n",
    "    \\text{Demand Constraints:}& \\\\\n",
    "        &\\sum_{s=1}^{S} e_{sk}^{5} \\leq g_{k}\\ , \\quad \\forall k \\in K \\\\ \n",
    "        &\\sum_{s=1}^{S} \\sum_{p=1}^{4} e_{sk}^{p} \\leq \\nu_{k} \\times \\sum_{s=1}^{S} e_{sk}^{5}\\ , \\quad \\forall k \\in K\\\\\n",
    "    \\text{Calculate Unit Costs:}& \\\\\n",
    "        &UC_{n} = \\sum_{p=1}^{2} \\sum_{n=1}^{N} \\sum_{m=1}^{M} c_{n} \\times a_{nm}^{p} \\\\\n",
    "        &UC_{m} = \\sum_{p=1}^{P} \\sum_{n=1}^{N} \\sum_{m=1}^{M} c_{m} \\times a_{nm}^{p} \\\\\n",
    "        &UC_{j} = \\sum_{p=1}^{P} \\sum_{m=1}^{M} \\sum_{j=1}^{J} c_{j} \\times \\Delta b_{mj}^{p} \\\\\n",
    "        &UC_{r} = \\sum_{p=1}^{P} \\sum_{m=1}^{M}\\sum_{r=1}^{R} c_{r} \\times b_{mr}^{p} \\\\\n",
    "        &UC_{s} = \\sum_{p=1}^{P} \\sum_{r=1}^{R} \\sum_{s=1}^{S} c_{s} \\times d_{rs}^{p} \\\\\n",
    "        &UC_{l}= \\sum_{s=1}^{S} \\sum_{l=1}^{L} (c_{l}^{A} \\times \\Delta e_{sl}^{A} + c_{l}^{O} \\times \\Delta e_{sl}^{O}) \\\\ \\\\\n",
    "    \\text{Capacity Constriants:}& \\\\\n",
    "        &\\sum_{m=1}^{M} a_{nm}^{p} \\leq supply_{N}\\ , \\quad \\forall n \\in N, \\forall p \\in \\{1, 2\\} \\\\\n",
    "        &\\sum_{n=1}^{N} \\sum_{p=1}^{2} a_{nm}^{p} \\leq capacity_{M}\\ , \\quad \\forall m \\in M \\\\\n",
    "        &\\sum_{j=1}^{J} \\Delta b_{mj}^{p} + \\sum_{r=1}^{R} \\sum_{p=1}^{2} b_{mr}^{p} \\leq capacity_{M}\\ , \\quad \\forall m \\in M \\\\\n",
    "        &\\sum_{m=1}^{M} \\sum_{p=1}^{2} b_{mr}^{p} \\leq capacity_{R}\\ , \\quad \\forall r \\in R \\\\\n",
    "        &\\sum_{s=1}^{S} \\sum_{p=1}^{2} d_{rs}^{p} \\leq capacity_{R}\\ , \\quad \\forall r \\in R \\\\\n",
    "        &\\sum_{r=1}^{R} \\sum_{p=1}^{P} d_{rs}^{p} \\leq capacity_{S}\\ , \\quad \\forall s \\in S \\\\\n",
    "        &\\sum_{l=1}^{L} \\sum_{p=1}^{P} \\Delta e_{sl}^{p} + \\sum_{p=1}^{P} \\sum_{k=1}^{K} e_{sk}^{p} \\leq capacity_{S}\\ , \\quad \\forall s \\in S \\\\\n",
    "\\end{align}"
   ]
  },
  {
   "cell_type": "markdown",
   "id": "387e5ad5-ff6a-48ad-b293-0c47e17691b4",
   "metadata": {},
   "source": [
    "\\begin{align}\n",
    "    \\text{Calculations (Suppliers $\\rightarrow$ Left Separators):}& \\\\\n",
    "        &\\sum_{n=1}^{N} (1 - I_{n}) \\times a_{nm}^{p} = \\sum_{r=1}^{R} b_{mr}^{p}\\ , \\quad \\forall m \\in M, \\forall p \\in \\{1, 2\\} \\\\\n",
    "        &\\sum_{n=1}^{N} I_{n} \\times a_{nm}^{p} = \\sum_{j=1}^{J} \\Delta b_{mj}^{p}\\ , \\quad \\forall m \\in M, \\forall p \\in \\{1, 2\\} \\\\ \\\\\n",
    "    \\text{Calculations (Left Separators $\\rightarrow$ Reactors):}& \\\\\n",
    "        &\\sum_{m=1}^{M} MW_{p=1} \\times (\\frac{b_{mr}^{p=1}}{MW_{p=1}} - \\gamma_{r} \\times \\frac{b_{mr}^{p=1}}{MW_{p=1}} ) = \\sum_{s=1}^{S} d_{rs}^{p=1}\\ , \\quad \\forall r \\in R \\\\\n",
    "        &\\sum_{m=1}^{M} MW_{p=2} \\times (\\frac{b_{mr}^{p=2}}{MW_{p=2}} - \\gamma_{r} \\times \\frac{b_{mr}^{p=1}}{MW_{p=1}} ) = \\sum_{s=1}^{S} d_{rs}^{p=2}\\ , \\quad \\forall r \\in R \\\\\n",
    "        &\\sum_{m=1}^{M} (MW_{p=3} \\times \\gamma_{r} \\times \\frac{b_{mr}^{p=1}}{MW_{p=1}} ) = \\sum_{s=1}^{S} d_{rs}^{p=3}\\ , \\quad \\forall r \\in R \\\\\n",
    "        &\\sum_{m=1}^{M} (MW_{p=4} \\times \\gamma_{r} \\times \\frac{b_{mr}^{p=1}}{MW_{p=1}} ) = \\sum_{s=1}^{S} d_{rs}^{p=4}\\ , \\quad \\forall r \\in R \\\\\n",
    "        &\\sum_{m=1}^{M} (MW_{p=5} \\times \\gamma_{r} \\times \\frac{b_{mr}^{p=1}}{MW_{p=1}} ) = \\sum_{s=1}^{S} d_{rs}^{p=5}\\ , \\quad \\forall r \\in R \\\\ \\\\\n",
    "    \\text{Calculations (Reactors $\\rightarrow$ Right Separators):}& \\\\\n",
    "        &\\sum_{r=1}^{R} I_{s} \\times d_{rs}^{p} = \\sum_{l=1}^{L} \\Delta e_{sl}^{p}\\ , \\quad \\forall s \\in S, \\forall p \\in \\{1, 2, 3, 4\\} \\\\\n",
    "        &\\sum_{r=1}^{R} d_{rs}^{5} = \\sum_{k=1}^{K} e_{sk}^{5}\\ , \\quad \\forall s \\in S \\\\\n",
    "        &\\sum_{r=1}^{R} (1 - I_{s}) \\times d_{rs}^{p} = \\sum_{k=1}^{K} e_{sk}^{p}\\ , \\quad \\forall s \\in S, \\forall p \\in \\{1, 2, 3, 4\\}\n",
    "\\end{align}"
   ]
  },
  {
   "cell_type": "markdown",
   "id": "499cb9aa-1a5c-47b1-b85d-a499af07f910",
   "metadata": {},
   "source": [
    "\\begin{align}\n",
    "    & \\text{Objective Function:}& \\\\\n",
    "    \\max & \\quad R_{k} - (FC_{m} + UC_{m}) - (FC_{r} + UC_{r}) - (FC_{s} + UC_{s}) - UC_{n} - UC_{j} - UC_{l}\n",
    "\\end{align}"
   ]
  },
  {
   "cell_type": "code",
   "execution_count": null,
   "id": "d490767f-a8f9-401a-ac83-3dc78bcb08e4",
   "metadata": {},
   "outputs": [],
   "source": []
  },
  {
   "cell_type": "code",
   "execution_count": null,
   "id": "bfbdc641-8fbd-4f39-9a44-2649a086b74d",
   "metadata": {},
   "outputs": [],
   "source": []
  }
 ],
 "metadata": {
  "kernelspec": {
   "display_name": "Julia 1.9.3",
   "language": "julia",
   "name": "julia-1.9"
  },
  "language_info": {
   "file_extension": ".jl",
   "mimetype": "application/julia",
   "name": "julia",
   "version": "1.9.3"
  }
 },
 "nbformat": 4,
 "nbformat_minor": 5
}
