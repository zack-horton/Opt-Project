{
 "cells": [
  {
   "cell_type": "code",
   "execution_count": 1,
   "id": "5660adff-82c2-4bc8-b04f-87ba83c13b92",
   "metadata": {},
   "outputs": [],
   "source": [
    "using Pkg, Gurobi, JuMP, CSV, DataFrames, LinearAlgebra, Statistics, Plots"
   ]
  },
  {
   "cell_type": "markdown",
   "id": "2ac42306-9a76-4d2d-bef8-a51b43a77778",
   "metadata": {},
   "source": [
    "## Formulation:\n",
    "\n",
    "![alt text](Network_Diagram.jpg \"Network Diagram\")\n"
   ]
  },
  {
   "cell_type": "code",
   "execution_count": 39,
   "id": "5c50312c-1146-4cfc-806d-21146d081824",
   "metadata": {},
   "outputs": [
    {
     "data": {
      "text/plain": [
       "5×4 Matrix{Float64}:\n",
       " 128.98  0.00012898   449.0  0.45\n",
       "  40.0   4.0e-5       492.0  0.49\n",
       "  58.44  5.844e-5       0.0  0.0\n",
       "  18.0   1.8e-5         0.0  0.0\n",
       "  92.52  9.252e-5    1840.0  1.84"
      ]
     },
     "execution_count": 39,
     "metadata": {},
     "output_type": "execute_result"
    }
   ],
   "source": [
    "chemicals = CSV.read(\"chemicals.csv\", DataFrame)\n",
    "p = size(chemicals)[2]\n",
    "# print(chemicals)\n",
    "p_matrix = Matrix(hcat(Vector(chemicals[2, 2:p]), Vector(chemicals[3, 2:p]), Vector(chemicals[5, 2:p]), Vector(chemicals[4, 2:p]), Vector(chemicals[1, 2:p]))')"
   ]
  },
  {
   "cell_type": "code",
   "execution_count": 40,
   "id": "563fc0fd-ae57-4beb-a08a-3a56857211b2",
   "metadata": {},
   "outputs": [
    {
     "data": {
      "text/html": [
       "<div><div style = \"float: left;\"><span>6×3 DataFrame</span></div><div style = \"clear: both;\"></div></div><div class = \"data-frame\" style = \"overflow-x: scroll;\"><table class = \"data-frame\" style = \"margin-bottom: 6px;\"><thead><tr class = \"header\"><th class = \"rowNumber\" style = \"font-weight: bold; text-align: right;\">Row</th><th style = \"text-align: left;\">Price (USD/MT)</th><th style = \"text-align: left;\">Demand</th><th style = \"text-align: left;\">Purity</th></tr><tr class = \"subheader headerLastRow\"><th class = \"rowNumber\" style = \"font-weight: bold; text-align: right;\"></th><th title = \"Int64\" style = \"text-align: left;\">Int64</th><th title = \"Int64\" style = \"text-align: left;\">Int64</th><th title = \"Float64\" style = \"text-align: left;\">Float64</th></tr></thead><tbody><tr><td class = \"rowNumber\" style = \"font-weight: bold; text-align: right;\">1</td><td style = \"text-align: right;\">1840</td><td style = \"text-align: right;\">5000</td><td style = \"text-align: right;\">0.15</td></tr><tr><td class = \"rowNumber\" style = \"font-weight: bold; text-align: right;\">2</td><td style = \"text-align: right;\">2000</td><td style = \"text-align: right;\">3000</td><td style = \"text-align: right;\">0.12</td></tr><tr><td class = \"rowNumber\" style = \"font-weight: bold; text-align: right;\">3</td><td style = \"text-align: right;\">4000</td><td style = \"text-align: right;\">1000</td><td style = \"text-align: right;\">0.05</td></tr><tr><td class = \"rowNumber\" style = \"font-weight: bold; text-align: right;\">4</td><td style = \"text-align: right;\">1500</td><td style = \"text-align: right;\">8000</td><td style = \"text-align: right;\">0.14</td></tr><tr><td class = \"rowNumber\" style = \"font-weight: bold; text-align: right;\">5</td><td style = \"text-align: right;\">1700</td><td style = \"text-align: right;\">8000</td><td style = \"text-align: right;\">0.17</td></tr><tr><td class = \"rowNumber\" style = \"font-weight: bold; text-align: right;\">6</td><td style = \"text-align: right;\">3000</td><td style = \"text-align: right;\">5000</td><td style = \"text-align: right;\">0.08</td></tr></tbody></table></div>"
      ],
      "text/latex": [
       "\\begin{tabular}{r|ccc}\n",
       "\t& Price (USD/MT) & Demand & Purity\\\\\n",
       "\t\\hline\n",
       "\t& Int64 & Int64 & Float64\\\\\n",
       "\t\\hline\n",
       "\t1 & 1840 & 5000 & 0.15 \\\\\n",
       "\t2 & 2000 & 3000 & 0.12 \\\\\n",
       "\t3 & 4000 & 1000 & 0.05 \\\\\n",
       "\t4 & 1500 & 8000 & 0.14 \\\\\n",
       "\t5 & 1700 & 8000 & 0.17 \\\\\n",
       "\t6 & 3000 & 5000 & 0.08 \\\\\n",
       "\\end{tabular}\n"
      ],
      "text/plain": [
       "\u001b[1m6×3 DataFrame\u001b[0m\n",
       "\u001b[1m Row \u001b[0m│\u001b[1m Price (USD/MT) \u001b[0m\u001b[1m Demand \u001b[0m\u001b[1m Purity  \u001b[0m\n",
       "     │\u001b[90m Int64          \u001b[0m\u001b[90m Int64  \u001b[0m\u001b[90m Float64 \u001b[0m\n",
       "─────┼─────────────────────────────────\n",
       "   1 │           1840    5000     0.15\n",
       "   2 │           2000    3000     0.12\n",
       "   3 │           4000    1000     0.05\n",
       "   4 │           1500    8000     0.14\n",
       "   5 │           1700    8000     0.17\n",
       "   6 │           3000    5000     0.08"
      ]
     },
     "execution_count": 40,
     "metadata": {},
     "output_type": "execute_result"
    }
   ],
   "source": [
    "customers = CSV.read(\"customers.csv\", DataFrame)\n",
    "k_matrix = Matrix(customers)"
   ]
  },
  {
   "cell_type": "code",
   "execution_count": 45,
   "id": "5c8d64b9-9e71-4f21-a6ec-e3673f3c9d13",
   "metadata": {},
   "outputs": [
    {
     "data": {
      "text/plain": [
       "5×4 Matrix{Float64}:\n",
       " 500000.0    100.0  10000.0  0.9\n",
       " 800000.0    175.0  10000.0  0.95\n",
       "      1.0e6  200.0  10000.0  0.99\n",
       " 300000.0     80.0  10000.0  0.8\n",
       " 400000.0     85.0  10000.0  0.88"
      ]
     },
     "execution_count": 45,
     "metadata": {},
     "output_type": "execute_result"
    }
   ],
   "source": [
    "reactors = CSV.read(\"reactors.csv\", DataFrame)\n",
    "r_matrix = Matrix(reactors)"
   ]
  },
  {
   "cell_type": "code",
   "execution_count": 44,
   "id": "adf3ad8e-da9e-465f-8ad6-23baebed8864",
   "metadata": {},
   "outputs": [
    {
     "data": {
      "text/plain": [
       "5×4 Matrix{Float64}:\n",
       " 100000.0   50.0  10000.0  0.05\n",
       " 200000.0  100.0  20000.0  0.01\n",
       " 250000.0  120.0  21000.0  0.005\n",
       "  50000.0   35.0  70000.0  0.2\n",
       "  75000.0   45.0  80000.0  0.1"
      ]
     },
     "execution_count": 44,
     "metadata": {},
     "output_type": "execute_result"
    }
   ],
   "source": [
    "separators_1 = CSV.read(\"separators1.csv\", DataFrame)\n",
    "m_matrix = Matrix(separators_1)"
   ]
  },
  {
   "cell_type": "code",
   "execution_count": 47,
   "id": "ca8bb1c2-49ce-46e4-96e1-c493e7523741",
   "metadata": {},
   "outputs": [
    {
     "data": {
      "text/plain": [
       "5×4 Matrix{Float64}:\n",
       " 100000.0  50.0  10000.0  0.9\n",
       " 200000.0  50.0  10000.0  0.95\n",
       " 250000.0  50.0  10000.0  0.99\n",
       "  50000.0  50.0  10000.0  0.85\n",
       "  75000.0  50.0  10000.0  0.88"
      ]
     },
     "execution_count": 47,
     "metadata": {},
     "output_type": "execute_result"
    }
   ],
   "source": [
    "separators_2 = CSV.read(\"separators2.csv\", DataFrame)\n",
    "s_matrix = Matrix(separators_2)"
   ]
  },
  {
   "cell_type": "code",
   "execution_count": 53,
   "id": "7b157ccf-bd8d-4cf6-916a-8923c5900b3a",
   "metadata": {},
   "outputs": [
    {
     "data": {
      "text/plain": [
       "5×3 Matrix{Float64}:\n",
       "  450.0  10000.0  0.05\n",
       "  500.0  10000.0  0.04\n",
       " 1000.0   5000.0  0.005\n",
       "  250.0  10000.0  0.2\n",
       "  750.0   5000.0  0.02"
      ]
     },
     "execution_count": 53,
     "metadata": {},
     "output_type": "execute_result"
    }
   ],
   "source": [
    "suppliers_DCH = CSV.read(\"suppliers_DCH.csv\", DataFrame)\n",
    "n_p1_matrix = Matrix(suppliers_DCH)"
   ]
  },
  {
   "cell_type": "code",
   "execution_count": 54,
   "id": "fed04664-ecc3-4836-9c5b-521585bb2f2a",
   "metadata": {},
   "outputs": [
    {
     "data": {
      "text/plain": [
       "5×3 Matrix{Float64}:\n",
       "  500.0  2500.0  0.05\n",
       "  600.0  2000.0  0.04\n",
       "  400.0  3000.0  0.07\n",
       " 1000.0  2000.0  0.005\n",
       "  800.0  2500.0  0.01"
      ]
     },
     "execution_count": 54,
     "metadata": {},
     "output_type": "execute_result"
    }
   ],
   "source": [
    "suppliers_NAOH = CSV.read(\"suppliers_NAOH.csv\", DataFrame)\n",
    "n_p2_matrix = Matrix(suppliers_NAOH)"
   ]
  },
  {
   "cell_type": "code",
   "execution_count": 55,
   "id": "3a8e7a9e-a909-4cf3-b523-a89d7e153787",
   "metadata": {},
   "outputs": [
    {
     "data": {
      "text/html": [
       "<div><div style = \"float: left;\"><span>1×3 DataFrame</span></div><div style = \"clear: both;\"></div></div><div class = \"data-frame\" style = \"overflow-x: scroll;\"><table class = \"data-frame\" style = \"margin-bottom: 6px;\"><thead><tr class = \"header\"><th class = \"rowNumber\" style = \"font-weight: bold; text-align: right;\">Row</th><th style = \"text-align: left;\">W1 Cost per MT</th><th style = \"text-align: left;\">W2 Cost per Aqeuous MT</th><th style = \"text-align: left;\">W2 Cost per Organic MT</th></tr><tr class = \"subheader headerLastRow\"><th class = \"rowNumber\" style = \"font-weight: bold; text-align: right;\"></th><th title = \"Int64\" style = \"text-align: left;\">Int64</th><th title = \"Int64\" style = \"text-align: left;\">Int64</th><th title = \"Int64\" style = \"text-align: left;\">Int64</th></tr></thead><tbody><tr><td class = \"rowNumber\" style = \"font-weight: bold; text-align: right;\">1</td><td style = \"text-align: right;\">100</td><td style = \"text-align: right;\">100</td><td style = \"text-align: right;\">500</td></tr></tbody></table></div>"
      ],
      "text/latex": [
       "\\begin{tabular}{r|ccc}\n",
       "\t& W1 Cost per MT & W2 Cost per Aqeuous MT & W2 Cost per Organic MT\\\\\n",
       "\t\\hline\n",
       "\t& Int64 & Int64 & Int64\\\\\n",
       "\t\\hline\n",
       "\t1 & 100 & 100 & 500 \\\\\n",
       "\\end{tabular}\n"
      ],
      "text/plain": [
       "\u001b[1m1×3 DataFrame\u001b[0m\n",
       "\u001b[1m Row \u001b[0m│\u001b[1m W1 Cost per MT \u001b[0m\u001b[1m W2 Cost per Aqeuous MT \u001b[0m\u001b[1m W2 Cost per Organic MT \u001b[0m\n",
       "     │\u001b[90m Int64          \u001b[0m\u001b[90m Int64                  \u001b[0m\u001b[90m Int64                  \u001b[0m\n",
       "─────┼────────────────────────────────────────────────────────────────\n",
       "   1 │            100                     100                     500"
      ]
     },
     "execution_count": 55,
     "metadata": {},
     "output_type": "execute_result"
    }
   ],
   "source": [
    "wastes = CSV.read(\"wastes.csv\", DataFrame)\n",
    "# j = wastes[1, 1]\n",
    "# l_aqueous = wastes[1, 2]\n",
    "# l_organic = wastes[1, 3]"
   ]
  },
  {
   "cell_type": "markdown",
   "id": "e8af02d7-c9bb-41ae-a4c6-73f32d5385b6",
   "metadata": {},
   "source": [
    "\\begin{align}\n",
    "    \\text{Sets of Values:}& \\\\\n",
    "    \\text{Supplier ($n$)}& \\in [1, N] \\\\\n",
    "    \\text{Material ($p$)}& \\in [1, P] \\\\\n",
    "    \\text{$p=1$ for DCH, $p=2$ for NaOH, $p=3$ for NaCl, $p=4$ for H2O, } & \\text{and $p=5$ ECH} \\\\\n",
    "    \\text{Separator (Left) ($m$)}& \\in [1, M] \\\\\n",
    "    \\text{Waste Water Treatment Plant (for initial separators) ($j$)}& \\in [J] \\\\\n",
    "    \\text{Reactors ($r$)}& \\in [1, R] \\\\\n",
    "    \\text{Separator (Right) ($s$)}& \\in [1, S] \\\\\n",
    "    \\text{Customers ($k$)}& \\in [1, K] \\\\\n",
    "    \\text{Waste Water Treatment Plant (for second separators) ($l$)}& \\in [L] \\\\ \\\\\n",
    "    \\text{Fixed Cost for using separator (left) ($m$)} & = f_{m} \\\\\n",
    "    \\text{Fixed Cost for using reactor ($r$)} & = f_{r} \\\\\n",
    "    \\text{Fixed Cost for using separator (right) ($s$)} & = f_{s} \\\\ \\\\\n",
    "    \\text{Unit Cost for sending material to separator (left) ($m$)} & = c_{m} \\\\\n",
    "    \\text{Unit Cost for sending material to waste water treatment plant ($j$)} & = c_{j} \\\\\n",
    "    \\text{Unit Cost for sending material to reaction ($r$)} & = c_{r} \\\\\n",
    "    \\text{Unit Cost for sending material to separator (right) ($s$)} & = c_{s} \\\\\n",
    "    \\text{Unit Cost for sending material to waste water treatment plant (aqueous) ($l$)} & = c^{A}_{l} \\\\\n",
    "    \\text{Unit Cost for sending material to waste water treatment plant (organic) ($l$)} & = c^{O}_{l} \\\\\n",
    "\\end{align}"
   ]
  },
  {
   "cell_type": "markdown",
   "id": "facb2a79-ec14-436b-9fba-015a7a5a9ec9",
   "metadata": {},
   "source": [
    "\\begin{align}\n",
    "    \\text{Variables and Sign Restrictions:} \\\\\n",
    "    a_{nm}^{p} \\in \\mathbb{R}_{+} =&\\ \\text{amount of material $p$ purchased from supplier $n$ and sent to separator $m$} \\\\\n",
    "    I_{n} =&\\ \\text{\\% impurity in material $p$ purchased from supplier $n$} \\\\ \\\\\n",
    "    b_{mr}^{p} \\in \\mathbb{R}_{+} =&\\ \\text{amount of separated (pure) material $p$ to send from separator $m$ to reactor $r$} \\\\\n",
    "    \\Delta b_{mj}^{p} \\in \\mathbb{R}_{+} =&\\ \\text{amount of separated (impure) material $p$ to send from separator $m$ to waste plant $j$} \\\\ \\\\\n",
    "    d_{rs}^{p} \\in \\mathbb{R}_{+} =&\\ \\text{amount of reacted material $p$ (with impurities) to ship from reactor $r$ to separator $s$} \\\\\n",
    "    \\gamma_{r} =&\\ \\text{\\% yield during reaction from reactor $r$} \\\\ \\\\\n",
    "    e_{sk}^{p} \\in \\mathbb{R}_{+} =&\\ \\text{amount of separated material $p$ (pure) to ship from separator $s$ to customer $k$} \\\\\n",
    "    \\Delta e_{sl}^{A} \\in \\mathbb{R}_{+} =&\\ \\text{amount of separated (impure) aqueous material to ship from separator $s$ to waste plant $l$} \\\\\n",
    "    \\Delta e_{sl}^{O} \\in \\mathbb{R}_{+} =&\\ \\text{amount of separated (impure) organic material to ship from separator $s$ to waste plant $l$} \\\\ \n",
    "    I_{s} =&\\ \\text{\\% recovery of materials from separator $s$} \\\\ \\\\\n",
    "    g_{k} \\in \\mathbb{R}_{+} =&\\ \\text{units of demand from customer k} \\\\ \n",
    "    \\nu_{k} =&\\ \\text{maximum \\% of non-ECH product that customer $k$ willing to except, relative to amount of ECH shipped}\\\\ \\\\\n",
    "    \\rho_{m} \\in \\{0, 1\\} =&\\ \\text{binary indicator if separator (left) $m$ used} \\\\\n",
    "    \\sigma_{r} \\in \\{0, 1\\} =&\\ \\text{binary indicator if reactor $r$ used} \\\\\n",
    "    \\mu_{s} \\in \\{0, 1\\} =&\\ \\text{binary indicator if separator (right) $s$ used} \\\\\n",
    "\\end{align}"
   ]
  },
  {
   "cell_type": "code",
   "execution_count": null,
   "id": "243c9810-b4f0-4898-8ded-6f5c30c6b127",
   "metadata": {},
   "outputs": [],
   "source": [
    "model = Model(Gurobi.Optimizer)\n",
    "\n",
    "## Existing Data\n",
    "\n",
    "# p_matrix: 5x4 matrix \n",
    "    # Rows: DHC, NaOH, NaCl, H2O, ECH (material index)\n",
    "    # Columns: [1] MW (g/mol), [2] MW (MT/mol), [3] Price (USD/MT), [4] Price (USD/kg)\n",
    "# k_matrix: 6x2 matrix\n",
    "    # Rows: Customer index\n",
    "    # Columns: [1] Price (USD/MT), [2] Demand, [3] Purity\n",
    "# r_matrix: 5x4 matrix\n",
    "    # Rows: Reactor index\n",
    "    # Columns: [1] Fixed Cost, [2] Flow Cost, [3] Capacity, [4] Conversion\n",
    "# m_matrix: 5x4 matrix [Left Separators]\n",
    "    # Rows: Separator (Left) index\n",
    "    # Columns: [1] Fixed Cost, [2] Flow Cost, [3] Capacity, [4] Impurity %\n",
    "# s_matrix: 5x4 matrix [Right Separators]\n",
    "    # Rows: Separator (Right) index\n",
    "    # Columns: [1] Fixed Cost, [2] Flow Cost, [3] Capacity, [4] Recovery\n",
    "# n_p1_matrix: 5x3 matrix (DCH Suppliers)\n",
    "    # Rows: DCH Supplier index\n",
    "    # Columns: [1] Price ($/MT), [2] Supply, [3] Impurity %\n",
    "# n_p1_matrix: 5x3 matrix (NaOH Suppliers)\n",
    "    # Rows: NaOH Supplier index\n",
    "    # Columns: [1] Price ($/MT), [2] Supply, [3] Impurity %\n",
    "# j: Int64 (Unit Cost of waste water treatment at left separators)\n",
    "# l_aqueous: Int64 (Unit Cost of aqueous water water treatment disposal at right separators)\n",
    "# l_organic: Int64 (Unit Cost of organic waste water treatment disposal at right separators)\n",
    "\n",
    "## Ranges & Values\n"
   ]
  },
  {
   "cell_type": "markdown",
   "id": "499cb9aa-1a5c-47b1-b85d-a499af07f910",
   "metadata": {},
   "source": [
    "\\begin{align}\n",
    "    & \\text{Objective Function:}& \\\\\n",
    "    \\max & \\quad R_{k} - (FC_{m} + UC_{m}) - (FC_{r} + UC_{r}) - (FC_{s} + UC_{s}) - UC_{j} - UC_{l}\n",
    "\\end{align}"
   ]
  },
  {
   "cell_type": "markdown",
   "id": "6567a0f2-af78-4a19-8810-ff0aee98e15c",
   "metadata": {},
   "source": [
    "\\begin{align}\n",
    "    \\text{Flow Constraints (MT units):}& \\\\\n",
    "        &\\sum_{n=1}^{N} a_{nm}^{p} = \\sum_{j=1}^{J} \\Delta b_{mj}^{p} + \\sum_{r=1}^{R} b^{p}_{mr}\\ , \\quad \\forall p \\in \\{1, 2\\}, \\forall m \\in M, \\forall j \\in J \\\\\n",
    "        &\\sum_{m=1}^{M} \\sum_{p=1}^{P} b_{mr}^{p} = \\sum_{s=1}^{S}d_{rs}^{p}\\ , \\quad \\forall r \\in R, \\forall p \\in \\{1, 2\\} \\\\\n",
    "        &\\sum_{r=1}^{R} d_{rs}^{p} = \\sum_{l=1}^{L} \\Delta e_{sl}^{p} + \\sum_{k=1}^{K} e_{sk}^{p}\\ , \\quad \\forall s \\in S, \\forall p \\in P \\\\\n",
    "        &a_{nm}^{p} = b_{mr}^{p} = \\Delta b_{mj}^{p} = 0\\ , \\quad \\forall p \\in \\{3, 4, 5\\}, \\forall n \\in N, \\forall m \\in M \\\\ \\\\ \n",
    "    \\text{Fixed Cost for Left Separators:}& \\\\\n",
    "        &a_{nm}^{p} \\leq \\mathbf{M} \\times \\rho_{m}\\ , \\quad \\forall n \\in N, \\forall p \\in P, \\forall m \\in M \\\\\n",
    "        &b_{mr}^{p} \\leq \\mathbf{M} \\times \\rho_{m}\\ , \\quad \\forall p \\in P, \\forall m \\in M, \\forall r \\in R \\\\\n",
    "        &\\Delta b_{mj}^{p} \\leq \\mathbf{M} \\times \\rho_{m}\\ , \\quad \\forall p \\in P, \\forall m \\in M, \\forall j \\in J \\\\\n",
    "        &FC_{m} = \\sum_{m=1}^{M} f_{m} \\times \\rho_{m} \\\\\n",
    "    \\text{Fixed Cost for Reactors:}& \\\\\n",
    "        &b_{mr}^{p} \\leq \\mathbf{M} \\times \\sigma_{r}\\ , \\quad \\forall p \\in P, \\forall m \\in M, \\forall r \\in R \\\\\n",
    "        &d_{rs}^{p} \\leq \\mathbf{M} \\times \\sigma_{r}\\ , \\quad \\forall r \\in R, \\forall p \\in P, \\forall s \\in S \\\\\n",
    "        &FC_{r} = \\sum_{r=1}^{R} f_{r} \\times \\sigma_{r} \\\\ \\\\\n",
    "    \\text{Fixed Cost for Right Separators:}& \\\\\n",
    "        &d_{rs}^{p} \\leq \\mathbf{M} \\times \\mu_{s}\\ , \\quad \\forall r \\in R, \\forall p \\in P, \\forall s \\in S \\\\\n",
    "        &e_{sk}^{p} \\leq \\mathbf{M} \\times \\mu_{s}\\ , \\quad \\forall s \\in S, \\forall p \\in P, \\forall k \\in K \\\\\n",
    "        &\\Delta e_{sl}^{p} \\leq \\mathbf{M} \\times \\mu_{s}\\ , \\quad \\forall s \\in S, \\forall p \\in P, \\forall l \\in L \\\\\n",
    "        &FC_{s} = \\sum_{s=1}^{S} f_{r} \\times \\mu_{s} \\\\ \\\\\n",
    "    \\text{Demand Constraints:}& \\\\\n",
    "        &\\sum_{s=1}^{S} e_{sk}^{5} \\leq g_{k}\\ , \\quad \\forall k \\in K \\\\ \n",
    "        &\\sum_{s=1}^{S} \\sum_{p=1}^{4} e_{sk}^{p} \\leq \\nu_{k} \\times \\sum_{s=1}^{S} e_{sk}^{5}\\ , \\quad \\forall k \\in K\\\\\n",
    "    \\text{Calculate Unit Costs:}& \\\\\n",
    "        &UC_{m} = \\sum_{p=1}^{P} \\sum_{n=1}^{N}\\sum_{m=1}^{M} c_{m} \\times a_{nm}^{p} \\\\\n",
    "        &UC_{j} = \\sum_{p=1}^{P} \\sum_{m=1}^{M} \\sum_{j=1}^{J} c_{j} \\times \\Delta b_{mj}^{p} \\\\\n",
    "        &UC_{r} = \\sum_{p=1}^{P} \\sum_{m=1}^{M}\\sum_{r=1}^{R} c_{r} \\times b_{mr}^{p} \\\\\n",
    "        &UC_{s} = \\sum_{p=1}^{P} \\sum_{r=1}^{R} \\sum_{s=1}^{S} c_{s} \\times d_{rs}^{p} \\\\\n",
    "        &UC_{l}= \\sum_{s=1}^{S} \\sum_{l=1}^{L} (c_{l}^{A} \\times \\Delta e_{sl}^{A} + c_{l}^{O} \\times \\Delta e_{sl}^{O}) \\\\ \\\\\n",
    "    \\text{Capacity Constriants:}& \\\\\n",
    "        &\\sum_{m=1}^{M} a_{nm}^{p} \\leq supply_{N}\\ , \\quad \\forall n \\in N, \\forall p \\in \\{1, 2\\} \\\\\n",
    "        &\\sum_{n=1}^{N} \\sum_{p=1}^{2} a_{nm}^{p} \\leq capacity_{M}\\ , \\quad \\forall m \\in M \\\\\n",
    "        &\\sum_{j=1}^{J} \\Delta b_{mj}^{p} + \\sum_{r=1}^{R} \\sum_{p=1}^{2} b_{mr}^{p} \\leq capacity_{M}\\ , \\quad \\forall m \\in M \\\\\n",
    "        &\\sum_{m=1}^{M} \\sum_{p=1}^{2} b_{mr}^{p} \\leq capacity_{R}\\ , \\quad \\forall r \\in R \\\\\n",
    "        &\\sum_{s=1}^{S} \\sum_{p=1}^{2} d_{rs}^{p} \\leq capacity_{R}\\ , \\quad \\forall r \\in R \\\\\n",
    "        &\\sum_{r=1}^{R} \\sum_{p=1}^{P} d_{rs}^{p} \\leq capacity_{S}\\ , \\quad \\forall s \\in S \\\\\n",
    "        &\\sum_{l=1}^{L} \\sum_{p=1}^{P} \\Delta e_{sl}^{p} + \\sum_{p=1}^{P} \\sum_{k=1}^{K} e_{sk}^{p} \\leq capacity_{S}\\ , \\quad \\forall s \\in S \\\\\n",
    "\\end{align}"
   ]
  },
  {
   "cell_type": "markdown",
   "id": "387e5ad5-ff6a-48ad-b293-0c47e17691b4",
   "metadata": {},
   "source": [
    "\\begin{align}\n",
    "    \\text{Calculations (Suppliers $\\rightarrow$ Left Separators):}& \\\\\n",
    "        &\\sum_{n=1}^{N} (1 - I_{n}) \\times a_{nm}^{p} = \\sum_{r=1}^{R} b_{mr}^{p}\\ , \\quad \\forall m \\in M, \\forall p \\in \\{1, 2\\} \\\\\n",
    "        &\\sum_{n=1}^{N} I_{n} \\times a_{nm}^{p} = \\sum_{j=1}^{J} \\Delta b_{mj}^{p}\\ , \\quad \\forall m \\in M, \\forall p \\in \\{1, 2\\} \\\\ \\\\\n",
    "    \\text{Calculations (Left Separators $\\rightarrow$ Reactors):}& \\\\\n",
    "        &\\sum_{m=1}^{M} MW_{p=1} \\times (\\frac{b_{mr}^{p=1}}{MW_{p=1}} - \\gamma_{r} \\times \\frac{b_{mr}^{p=1}}{MW_{p=1}} ) = \\sum_{s=1}^{S} d_{rs}^{p=1}\\ , \\quad \\forall r \\in R \\\\\n",
    "        &\\sum_{m=1}^{M} MW_{p=2} \\times (\\frac{b_{mr}^{p=2}}{MW_{p=2}} - \\gamma_{r} \\times \\frac{b_{mr}^{p=1}}{MW_{p=1}} ) = \\sum_{s=1}^{S} d_{rs}^{p=2}\\ , \\quad \\forall r \\in R \\\\\n",
    "        &\\sum_{m=1}^{M} (MW_{p=3} \\times \\gamma_{r} \\times \\frac{b_{mr}^{p=1}}{MW_{p=1}} ) = \\sum_{s=1}^{S} d_{rs}^{p=3}\\ , \\quad \\forall r \\in R \\\\\n",
    "        &\\sum_{m=1}^{M} (MW_{p=4} \\times \\gamma_{r} \\times \\frac{b_{mr}^{p=1}}{MW_{p=1}} ) = \\sum_{s=1}^{S} d_{rs}^{p=3}\\ , \\quad \\forall r \\in R \\\\\n",
    "        &\\sum_{m=1}^{M} (MW_{p=5} \\times \\gamma_{r} \\times \\frac{b_{mr}^{p=1}}{MW_{p=1}} ) = \\sum_{s=1}^{S} d_{rs}^{p=3}\\ , \\quad \\forall r \\in R \\\\ \\\\\n",
    "    \\text{Calculations (Reactors $\\rightarrow$ Right Separators):}& \\\\\n",
    "        &\\sum_{r=1}^{R} I_{s} \\times d_{rs}^{p} = \\sum_{l=1}^{L} \\Delta e_{sl}^{p}\\ , \\quad \\forall s \\in S, \\forall p \\in \\{1, 2, 3, 4\\} \\\\\n",
    "        &\\sum_{r=1}^{R} d_{rs}^{5} = \\sum_{k=1}^{K} e_{sk}^{5}\\ , \\quad \\forall s \\in S \\\\\n",
    "        &\\sum_{r=1}^{R} (1 - I_{s}) \\times d_{rs}^{p} = \\sum_{k=1}^{K} e_{sk}^{p}\\ , \\quad \\forall s \\in S, \\forall p \\in \\{1, 2, 3, 4\\}\n",
    "\\end{align}"
   ]
  },
  {
   "cell_type": "code",
   "execution_count": null,
   "id": "bfbdc641-8fbd-4f39-9a44-2649a086b74d",
   "metadata": {},
   "outputs": [],
   "source": []
  }
 ],
 "metadata": {
  "kernelspec": {
   "display_name": "Julia 1.9.3",
   "language": "julia",
   "name": "julia-1.9"
  },
  "language_info": {
   "file_extension": ".jl",
   "mimetype": "application/julia",
   "name": "julia",
   "version": "1.9.3"
  }
 },
 "nbformat": 4,
 "nbformat_minor": 5
}
