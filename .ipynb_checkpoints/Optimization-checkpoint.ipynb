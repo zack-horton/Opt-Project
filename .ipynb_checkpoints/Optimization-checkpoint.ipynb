{
 "cells": [
  {
   "cell_type": "code",
   "execution_count": 1,
   "id": "5660adff-82c2-4bc8-b04f-87ba83c13b92",
   "metadata": {},
   "outputs": [],
   "source": [
    "using Pkg, Gurobi, JuMP, CSV, DataFrames, LinearAlgebra, Statistics, Plots"
   ]
  },
  {
   "cell_type": "code",
   "execution_count": 2,
   "id": "8f1861e5-6878-4fde-b5d9-5339b9f57572",
   "metadata": {},
   "outputs": [],
   "source": [
    "# [\"chemicals.csv\", \"reactors.csv\", \"separators1.csv\", \"separators2.csv\", \"wastes.csv\"]\n",
    "chemicals = CSV.read(\"./chemicals.csv\", DataFrame)\n",
    "rename!(chemicals, [\"Chemical\", \"MW_g_mol\", \"MW_kg_mol\", \"Price_USD_MT\", \"Price_USD_kg\"])\n",
    "\n",
    "ECH = chemicals[1, 2:ncol(chemicals)]\n",
    "DCH = chemicals[2, 2:ncol(chemicals)]\n",
    "NaOH = chemicals[3, 2:ncol(chemicals)]\n",
    "H20 = chemicals[4, 2:ncol(chemicals)]\n",
    "NaCl = chemicals[5, 2:ncol(chemicals)]\n",
    "\n",
    "chemicals_matrix = Matrix(chemicals[:, 2:ncol(chemicals)]);"
   ]
  },
  {
   "cell_type": "code",
   "execution_count": 3,
   "id": "0e30b34a-00f3-4fcd-8f4b-2e1bfac26149",
   "metadata": {},
   "outputs": [],
   "source": [
    "reactors = CSV.read(\"./reactors.csv\", DataFrame)\n",
    "rename!(reactors, [\"Fixed_Cost\", \"Flow_Cost\", \"Capacity\", \"Conversion_Rate\"])\n",
    "\n",
    "reactors_matrix = Matrix(reactors);"
   ]
  },
  {
   "cell_type": "code",
   "execution_count": 4,
   "id": "f5fa4e91-aee7-45db-a1e7-8ed70c335fae",
   "metadata": {},
   "outputs": [],
   "source": [
    "separators_1 = CSV.read(\"separators1.csv\", DataFrame)\n",
    "rename!(separators_1, [\"Fixed_Cost\", \"Flow_Cost\", \"Capacity\", \"Impurity_pct\"])\n",
    "\n",
    "separators_1_matrix = Matrix(separators_1);"
   ]
  },
  {
   "cell_type": "code",
   "execution_count": 5,
   "id": "81f9c387-48d8-4bf9-8133-9c8b2105c2f1",
   "metadata": {},
   "outputs": [],
   "source": [
    "separators_2 = CSV.read(\"separators2.csv\", DataFrame)\n",
    "rename!(separators_2, [\"Fixed_Cost\", \"Flow_Cost\", \"Capacity\", \"Recovery_Pct\"])\n",
    "\n",
    "separators_2_matrix = Matrix(separators_2);"
   ]
  },
  {
   "cell_type": "code",
   "execution_count": 6,
   "id": "1319a10a-53d4-4817-ab35-d6cca56cca98",
   "metadata": {},
   "outputs": [],
   "source": [
    "wastes = CSV.read(\"wastes.csv\", DataFrame)\n",
    "rename!(wastes, [\"W1_Cost_MT\", \"W2_Cost_Aqueous_MT\", \"W2_Cost_Organic_MT\"])\n",
    "\n",
    "wastes_matrix = Matrix(wastes);"
   ]
  },
  {
   "cell_type": "markdown",
   "id": "2ac42306-9a76-4d2d-bef8-a51b43a77778",
   "metadata": {},
   "source": [
    "## Formulation:\n",
    "\n",
    "![alt text](Network_Diagram.jpg \"Network Diagram\")\n"
   ]
  },
  {
   "cell_type": "markdown",
   "id": "e8af02d7-c9bb-41ae-a4c6-73f32d5385b6",
   "metadata": {},
   "source": [
    "\\begin{align}\n",
    "    \\text{Sets of Values:}& \\\\\n",
    "    \\text{Supplier ($n$)}& \\in [1, N] \\\\\n",
    "    \\text{Product ($p$)}& \\in [1, 2], \\quad \\text{$p=1$ for DCH, $p=2$ for NaOH, $p=3$ for NaCl, $p=4$ for H2O, and $p=5$ ECH} \\\\\n",
    "    \\text{Separator (Left) ($m$)}& \\in [1, M] \\\\\n",
    "    \\text{Waste Water Treatment Plant (for initial separators) ($j$)}& \\in [J] \\\\\n",
    "    \\text{Reactors ($r$)}& \\in [1, R] \\\\\n",
    "    \\text{Separator (Right) ($s$)}& \\in [1, S] \\\\\n",
    "    \\text{Customers ($k$)}& \\in [1, K] \\\\\n",
    "    \\text{Waste Water Treatment Plant (for second separators) ($l$)}& \\in [L] \\\\ \\\\\n",
    "    \\text{Fixed Cost for using separator (left) ($m$)} & = f_{m} \\\\\n",
    "    \\text{Fixed Cost for using reactor ($r$)} & = f_{r} \\\\\n",
    "    \\text{Fixed Cost for using separator (right) ($s$)} & = f_{s} \\\\ \\\\\n",
    "    \\text{Unit Cost for sending material to separator (left) ($m$)} & = c_{m} \\\\\n",
    "    \\text{Unit Cost for sending material to waste water treatment plant ($j$)} & = c_{j} \\\\\n",
    "    \\text{Unit Cost for sending material to reaction ($r$)} & = c_{r} \\\\\n",
    "    \\text{Unit Cost for sending material to separator (right) ($s$)} & = c_{s} \\\\\n",
    "    \\text{Unit Cost for sending material to waste water treatment plant (aqueous) ($l$)} & = c^{A}_{l} \\\\\n",
    "    \\text{Unit Cost for sending material to waste water treatment plant (organic) ($l$)} & = c^{O}_{l} \\\\\n",
    "\\end{align}"
   ]
  },
  {
   "cell_type": "markdown",
   "id": "facb2a79-ec14-436b-9fba-015a7a5a9ec9",
   "metadata": {},
   "source": [
    "\\begin{align}\n",
    "    \\text{Variables and Sign Restrictions:} \\\\\n",
    "    a_{nm}^{p} \\in \\mathbb{R}_{+} =&\\ \\text{amount of product $p$ purchased from supplier $n$ and sent to separator $m$} \\\\ \\\\\n",
    "    b_{mr}^{p} \\in \\mathbb{R}_{+} =&\\ \\text{amount of separated (purified) product $p$ to send from separator $m$ to reactor $r$} \\\\\n",
    "    \\Delta b_{mj}^{p} \\in \\mathbb{R}_{+} =&\\ \\text{amount of separated (impurity) product $p$ to send from separator $m$ to waste plant $j$} \\\\ \\\\\n",
    "    d_{rs}^{p} \\in \\mathbb{R}_{+} =&\\ \\text{amount of reacted material (with impurities) to ship from reactor $r$ to separator $s$} \\\\ \\\\\n",
    "    e_{sk}^{p} \\in \\mathbb{R}_{+} =&\\ \\text{amount of separated (purified) material to ship from separator $s$ to customer $k$} \\\\\n",
    "    \\Delta e_{sl}^{A} \\in \\mathbb{R}_{+} =&\\ \\text{amount of separated (impurity) aqueous material to ship from separator $s$ to waste plant $l$} \\\\\n",
    "    \\Delta e_{sl}^{O} \\in \\mathbb{R}_{+} =&\\ \\text{amount of separated (impurity) organic material to ship from separator $s$ to waste plant $l$} \\\\ \\\\\n",
    "    g_{k} \\in \\mathbb{R}_{+} =&\\ \\text{units of demand from customer k} \\\\ \\\\\n",
    "    \\rho_{m} \\in \\{0, 1\\} =&\\ \\text{binary indicator if separator (left) $m$ used} \\\\\n",
    "    \\sigma_{r} \\in \\{0, 1\\} =&\\ \\text{binary indicator if reactor $r$ used} \\\\\n",
    "    \\mu_{s} \\in \\{0, 1\\} =&\\ \\text{binary indicator if separator (right) $s$ used} \\\\\n",
    "\\end{align}"
   ]
  },
  {
   "cell_type": "markdown",
   "id": "499cb9aa-1a5c-47b1-b85d-a499af07f910",
   "metadata": {},
   "source": [
    "\\begin{align}\n",
    "    & \\text{Objective Function:}& \\\\\n",
    "    \\max & \\quad R_{k} - (FC_{m} + UC_{m}) - (FC_{r} + UC_{r}) - (FC_{s} + UC_{s}) - UC_{j} - UC_{l}\n",
    "\\end{align}"
   ]
  },
  {
   "cell_type": "markdown",
   "id": "6567a0f2-af78-4a19-8810-ff0aee98e15c",
   "metadata": {},
   "source": [
    "\\begin{align}\n",
    "    \\text{Flow Constraints (MT units):}& \\\\\n",
    "        &\\sum_{n=1}^{N} a_{nm}^{p} = \\Delta b_{mj}^{p} + \\sum_{r=1}^{R} b^{p}_{mr}\\ , \\quad \\forall p \\in P, \\forall m \\in M, \\forall j \\in J \\\\\n",
    "        &\\sum_{m=1}^{M} \\sum_{p=1}^{P} b_{mr}^{p} = \\sum_{s=1}^{S}d_{rs}^{p}\\ , \\quad \\forall r \\in R, \\forall p \\in P \\\\\n",
    "        &\\sum_{r=1}^{R} d_{rs}^{p} = \\Delta e_{sk} + \\sum_{k=1}^{K} e_{sk}\\ , \\quad \\forall s \\in S, \\forall p \\in P \\\\ \\\\\n",
    "    \\text{Fixed Cost for Left Separators:}& \\\\\n",
    "        &a_{nm}^{p} \\leq \\mathbf{M} \\times \\rho_{m}\\ , \\quad \\forall n \\in N, \\forall p \\in P, \\forall m \\in M \\\\\n",
    "        &b_{mr}^{p} \\leq \\mathbf{M} \\times \\rho_{m}\\ , \\quad \\forall p \\in P, \\forall m \\in M, \\forall r \\in R \\\\\n",
    "        &\\Delta b_{mj}^{p} \\leq \\mathbf{M} \\times \\rho_{m}\\ , \\quad \\forall p \\in P, \\forall m \\in M, \\forall j \\in J \\\\\n",
    "        &FC_{m} = \\sum_{m=1}^{M} f_{m} \\times \\rho_{m} \\\\\n",
    "    \\text{Fixed Cost for Reactors:}& \\\\\n",
    "        &b_{mr}^{p} \\leq \\mathbf{M} \\times \\sigma_{r}\\ , \\quad \\forall p \\in P, \\forall m \\in M, \\forall r \\in R \\\\\n",
    "        &d_{rs} \\leq \\mathbf{M} \\times \\sigma_{r}\\ , \\quad \\forall r \\in R, \\forall s \\in S \\\\\n",
    "        &FC_{r} = \\sum_{r=1}^{R} f_{r} \\times \\sigma_{r} \\\\ \\\\\n",
    "    \\text{Fixed Cost for Right Separators:}& \\\\\n",
    "        &d_{rs} \\leq \\mathbf{M} \\times \\mu_{s}\\ , \\quad \\forall r \\in R, \\forall s \\in S \\\\\n",
    "        &e_{sk} \\leq \\mathbf{M} \\times \\mu_{s}\\ , \\quad \\forall s \\in S, \\forall k \\in K \\\\\n",
    "        &\\Delta e_{sl} \\leq \\mathbf{M} \\times \\mu_{s}\\ , \\quad \\forall s \\in S, \\forall l \\in L \\\\\n",
    "        &FC_{s} = \\sum_{s=1}^{S} f_{r} \\times \\mu_{s} \\\\ \\\\\n",
    "    \\text{Demand Constraints:}& \\\\\n",
    "        &\\sum_{s=1}^{S} e_{sk}^{5} \\leq g_{k}\\ , \\quad \\forall k \\in K \\\\ \\\\\n",
    "    \\text{Calculate Unit Costs:}& \\\\\n",
    "        &UC_{m} = \\sum_{p=1}^{P}\\sum_{n=1}^{N}\\sum_{m=1}^{M} c_{m} \\times a_{nm}^{p} \\\\\n",
    "        &UC_{j} = \\sum_{p=1}^{P} \\sum_{m=1}^{M} \\sum_{j=1}^{J} c_{j} \\times \\Delta b_{mj}^{p} \\\\\n",
    "        &UC_{r} = \\sum_{p=1}^{P}\\sum_{m=1}^{M}\\sum_{r=1}^{R} c_{r} \\times b_{mr}^{p} \\\\\n",
    "        &UC_{s} = \\sum_{r=1}^{R} \\sum_{s=1}^{S} c_{s} \\times d_{rs} \\\\\n",
    "        &UC_{l}= \\sum_{s=1}^{S} \\sum_{l=1}^{L} (c_{l}^{A} \\times \\Delta e_{sl}^{A} + c_{l}^{O} \\times \\Delta e_{sl}^{O}) \\\\\n",
    "\\end{align}"
   ]
  },
  {
   "cell_type": "code",
   "execution_count": 7,
   "id": "e04b5cdb-b24c-4da8-9f21-36f192733601",
   "metadata": {},
   "outputs": [],
   "source": [
    "# total amount of product p bought and sent to separator m, must be processed as either b or delta(b)\n",
    "# total amount of ALL products send to reaction r, must be processed as d"
   ]
  },
  {
   "cell_type": "code",
   "execution_count": null,
   "id": "6dd82f9f-636f-4a05-a205-d3dd25f276d0",
   "metadata": {},
   "outputs": [],
   "source": []
  }
 ],
 "metadata": {
  "kernelspec": {
   "display_name": "Julia 1.9.3",
   "language": "julia",
   "name": "julia-1.9"
  },
  "language_info": {
   "file_extension": ".jl",
   "mimetype": "application/julia",
   "name": "julia",
   "version": "1.9.3"
  }
 },
 "nbformat": 4,
 "nbformat_minor": 5
}
